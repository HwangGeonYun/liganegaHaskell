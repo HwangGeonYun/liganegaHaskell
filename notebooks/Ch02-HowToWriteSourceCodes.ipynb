{
 "cells": [
  {
   "cell_type": "markdown",
   "metadata": {},
   "source": [
    "# 소스코드 작성 규칙 및 요령"
   ]
  },
  {
   "cell_type": "markdown",
   "metadata": {},
   "source": [
    "함수 사용법, 들여쓰기, 주석 처리 등에 대해 간략히 설명한다."
   ]
  },
  {
   "cell_type": "markdown",
   "metadata": {},
   "source": [
    "## 함수 사용법"
   ]
  },
  {
   "cell_type": "markdown",
   "metadata": {},
   "source": [
    "### 함수 호출\n",
    "\n",
    "지정된 함수가 정해진 개수와 유형의 인자를 받아 정해진 규칙대로 하나의 값을 생성하도록 하는 명령을 가리킨다. \n",
    "수학 또는 기타 C, 자바, 파이썬 등의 언어와는 달리 \n",
    "하스켈에서는 함수의 인자들을 괄호와 쉼표 없이 스페이스로 구분해서 나열하는 식으로 함수 호출을 실행한다. "
   ]
  },
  {
   "cell_type": "markdown",
   "metadata": {},
   "source": [
    "### 연산자 우선순위\n",
    "\n",
    "* 사칙연산 및 지수승 등에 대한 우선순위는 일반적인 경우와 동일하다. \n",
    "\n",
    "    ```haskell\n",
    "    +, -  <  *, /  <  ^ (지수승)\n",
    "    ```\n",
    "\n",
    "\n",
    "* 우선 순위가 같은 경우 왼쪽에서부터 계산한다. \n",
    "\n",
    "    ```haskell\n",
    "    x - y + z = (x - y) + z\n",
    "    ```\n",
    "\n",
    "\n",
    "* `f x` 등의 함수 호출이 다른 연산자들보다 높은 우선순위를 갖는다. \n",
    "\n",
    "    ```haskell\n",
    "    f x y + b = (f x y) + b\n",
    "    ```\n",
    "\n",
    "괄호는 인자를 명확히 구분하기위해 필요에 따라 도우미로 사용한다. \n",
    "함수 호출을 몇 가지 활용 예제는 다음과 같다. \n",
    "\n",
    "| 수학 및 기타 언어 |  하스켈 |\n",
    "| :--- | :--- |\n",
    "| f(x) | f x |\n",
    "| f(x, y) | f x y |\n",
    "| f(x, y, z) | f x y z |\n",
    "| f(g(x)) | f (g x) |\n",
    "| f(g, x) | f g x |\n",
    "| f(x, g(x), h) | f x (g x) h|\n",
    "| f(x, y) + g(x) | f x y + g x |\n",
    "| f(x, y) g(x, y) | f x y * g x y |"
   ]
  },
  {
   "cell_type": "markdown",
   "metadata": {},
   "source": [
    "### 함수 이름짓기"
   ]
  },
  {
   "cell_type": "markdown",
   "metadata": {},
   "source": [
    "하스켈에서 함수의 이름은 영어 소문자 알파벳으로 시작해야 하며, 이후에는 다른 종류의 문자가 올 수 있다. \n",
    "대소문자를 구분하여 숫자, 밑줄(언더스코어), 작은 인용부터 등이 사용된다.\n",
    "예를 들어 다음과 같다. \n",
    "\n",
    "```haskell\n",
    "actionSeqn, add3, sum_, double'\n",
    "```\n",
    "\n",
    "**주의:** 하스켈 자체에서 사용되는 키워드는 함수이름으로 사용하면 기본적으로 오류가 발생하거나,\n",
    "의도치 않게 작동할 것이다. \n",
    "지금까지 본 하스켈 키워드는 퀵정렬 함수 `qsort_`를 정의할 때 사용된 `where`이며,\n",
    "앞으로 계속해서 만날 것이다.\n",
    "\n",
    "```haskell\n",
    "case   class   data   default   deriving   do   else\n",
    "foreign   if   import   in   infix   infixl   infixr\n",
    "instance   let   module   newtype   of   then   type   where\n",
    "```"
   ]
  },
  {
   "cell_type": "markdown",
   "metadata": {},
   "source": [
    "## 들여쓰기"
   ]
  },
  {
   "cell_type": "markdown",
   "metadata": {},
   "source": [
    "하스켈은 괄호를 최소로 사용한다.\n",
    "함수를 작성할 때 동일한 수준에서 동작하는 정의는 동일한 크기의 들여쓰기를 사용해야 한다. \n",
    "즉, 여러 정의를 들여쓰기를 이용하여 배치하는 규칙을 지켜야 한다. \n",
    "\n",
    "예를 들어, 앞서 이전에 다뤘던 퀵정렬 함수 `qsort_` 를 정의할 때, `where` 키워드\n",
    "이후에 위치한 `ys`와 `zs`의 정의는 동일한 수준에서 정의되야 하며, \n",
    "따라서 들여쓰기 정도도 같아야 한다. 만약 들여쓰기 정도가 다르면 오류가 발생한다. \n",
    "\n",
    "예를 들어, 아래 코드는 5번 줄에 위치한 `zs`의 정의가 `ys`의 정의보다 한 수준 더\n",
    "들여써져 있는게 문제다."
   ]
  },
  {
   "cell_type": "code",
   "execution_count": 14,
   "metadata": {},
   "outputs": [
    {
     "ename": "",
     "evalue": "",
     "header": "MessageHeader {mhIdentifiers = [\"9d47533c-dba4-4ac4-912a-a0748f1f4f85\"], mhParentHeader = Just (MessageHeader {mhIdentifiers = [\"9d47533c-dba4-4ac4-912a-a0748f1f4f85\"], mhParentHeader = Nothing, mhMetadata = Metadata (fromList [(\"deletedCells\",Array []),(\"cellId\",String \"6856306a-7ac3-4247-8438-c921cf12dcfe\")]), mhMessageId = UUID {uuidToString = \"9d345325-bca3-48dc-8d2d-a659db076b33\"}, mhSessionId = UUID {uuidToString = \"9d47533c-dba4-4ac4-912a-a0748f1f4f85\"}, mhUsername = \"\", mhMsgType = ExecuteRequestMessage}), mhMetadata = Metadata (fromList []), mhMessageId = UUID {uuidToString = \"2ee3c930-5a39-4ebd-a68d-2d1e96e737ec\"}, mhSessionId = UUID {uuidToString = \"9d47533c-dba4-4ac4-912a-a0748f1f4f85\"}, mhUsername = \"\", mhMsgType = ExecuteErrorMessage}",
     "output_type": "error",
     "traceback": [
      "Parse error (line 5, column 36): parse error on input ‘=’\nPerhaps you need a 'let' in a 'do' block?\ne.g. 'let x = 5' instead of 'x = 5'"
     ]
    }
   ],
   "source": [
    "qsort_ [] _    = []\n",
    "qsort_ (x:xs) False = qsort_ ys False ++ [x] ++ qsort_ zs False\n",
    "                         where\n",
    "                            ys = [a | a <- xs, a <= x]\n",
    "                                zs = [b | b <- xs, b > x]\n",
    "qsort_ (x:xs) True = qsort_ zs True ++ [x] ++ qsort_ ys True\n",
    "                        where\n",
    "                            ys = [a | a <- xs, a <= x]\n",
    "                            zs = [b | b <- xs, b > x]                "
   ]
  },
  {
   "cell_type": "markdown",
   "metadata": {},
   "source": [
    "### 탭 키 사용"
   ]
  },
  {
   "cell_type": "markdown",
   "metadata": {},
   "source": [
    "들여쓰기를 하는 방식은 스페이스를 사용하거나 탭 키를 사용할 수 있다.\n",
    "하지만 편집기마다 탭 키가 작동하는 방식이 조금씩 다를 수 있음에 주의해야 한다. \n",
    "특히, 소스코드를 복사하는 경우 들여쓰기에 주의하지 않으면 앞서 설명한 대로 \n",
    "오류가 발생하거나 의도한 것과 다르게 동작할 수 있다."
   ]
  },
  {
   "cell_type": "markdown",
   "metadata": {},
   "source": [
    "## 주석 처리"
   ]
  },
  {
   "cell_type": "markdown",
   "metadata": {},
   "source": [
    "주석은 코드와 관련된 설명을 담거나 코드의 일부를 잠시 동작하지 않도록 만드는 기능이다.\n",
    "주석으로 처리된 부분은 하스켈 인터프리터에 의해 무시된다. \n",
    "\n",
    "두 가지 방식으로 주석을 추가할 수 있다. \n",
    "\n",
    "* 한 줄 주석: 대시 기호 두 개 (`--`)로 시작한다.\n",
    "* 여러 줄 주석: `{-` 와 `-}` 로 감싸인 부분은 주석으로 처리된다. 여러 줄을 주석으로 처리할 때 사용한다."
   ]
  }
 ],
 "metadata": {
  "kernelspec": {
   "display_name": "Haskell",
   "language": "haskell",
   "name": "haskell"
  },
  "language_info": {
   "codemirror_mode": "ihaskell",
   "file_extension": ".hs",
   "name": "haskell",
   "pygments_lexer": "Haskell",
   "version": "8.6.5"
  }
 },
 "nbformat": 4,
 "nbformat_minor": 4
}
