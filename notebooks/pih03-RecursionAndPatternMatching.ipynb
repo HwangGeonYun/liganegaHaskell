{
 "cells": [
  {
   "cell_type": "markdown",
   "metadata": {},
   "source": [
    "# 재귀와 패턴 매칭"
   ]
  },
  {
   "cell_type": "markdown",
   "metadata": {},
   "source": [
    "재귀와 패턴 매칭을 간단한 예제를 통해 설명한다. \n",
    "보다 복잡한 예제와 설명은 강의를 진행하면서 차차 이루어질 것이다."
   ]
  },
  {
   "cell_type": "markdown",
   "metadata": {},
   "source": [
    "## 재귀"
   ]
  },
  {
   "cell_type": "markdown",
   "metadata": {},
   "source": [
    "**재귀**(recursion)의 사전적 정의는 되풀이 또는 순환반복 등을 의미한다. \n",
    "그리고 **재귀 함수**는 재귀로 정의된 함수를 가리킨다."
   ]
  },
  {
   "cell_type": "markdown",
   "metadata": {},
   "source": [
    "그런데 재귀로 정의된 함수란 무엇일까?\n",
    "다음 예제를 살펴보자. "
   ]
  },
  {
   "cell_type": "code",
   "execution_count": 1,
   "metadata": {},
   "outputs": [],
   "source": [
    "nonStoppingFtn x = nonStoppingFtn (x + 1)"
   ]
  },
  {
   "cell_type": "markdown",
   "metadata": {},
   "source": [
    "`nonStoppingFtn` 함수의 본체에 `nonStoppingFtn` 이 사용된다.\n",
    "이렇듯 함수를 정의할 때 함수의 본체에 자신이 사용되는 것을 재귀라 부른다.\n",
    "즉, `nonStoppingFtn` 함수처럼 재귀로 정의된 함수를 재귀함수라 부른다. \n",
    "\n",
    "사실 `nonStoppingFtn` 함수는 인위적으로 구현된 함수이다. \n",
    "Coq, Agda와 같은 증명보조기(proof assistant)가 사용하는 프로그래밍 언어에서는\n",
    "`nonStoppingFtn` 같은 함수는 애초부터 정의를 받아들이지 않는다.\n",
    "\n",
    "**주의:** \"정의를 받아들이지 않는다\" 는 표현을 여기서는 일종의 문법 오류 정도로 이해하면 된다."
   ]
  },
  {
   "cell_type": "markdown",
   "metadata": {},
   "source": [
    "반면에 이전에 살펴 본 `sum_`, `qsort_`, `actionSeqn` 함수 또한 모두 재귀 함수들이다. \n",
    "하지만 이들은 `nonStoppingFtn`과 다른 종류의 재귀를 사용하는데,\n",
    "바로 패턴 매칭과 함께 재귀가 사용된다. \n",
    "\n",
    "하스켈과 같은 함수형 프로그래밍 언어에서 재귀와 패턴 매칭은 매우 중요한 요소이며 서로 긴밀히 공존하는 관계이다.\n",
    "여기서는 패턴 매칭과 재귀의 긴밀한 관계를 알아보기 위해 `sum_` 함수의 정의를 분석한다."
   ]
  },
  {
   "cell_type": "markdown",
   "metadata": {},
   "source": [
    "## 패턴 매칭과 재귀"
   ]
  },
  {
   "cell_type": "markdown",
   "metadata": {},
   "source": [
    "하스켈에서 `sum_` 함수의 정의는 다음과 같다."
   ]
  },
  {
   "cell_type": "code",
   "execution_count": 2,
   "metadata": {
    "collapsed": true
   },
   "outputs": [
    {
     "data": {
      "text/html": [
       "<style>/* Styles used for the Hoogle display in the pager */\n",
       ".hoogle-doc {\n",
       "display: block;\n",
       "padding-bottom: 1.3em;\n",
       "padding-left: 0.4em;\n",
       "}\n",
       ".hoogle-code {\n",
       "display: block;\n",
       "font-family: monospace;\n",
       "white-space: pre;\n",
       "}\n",
       ".hoogle-text {\n",
       "display: block;\n",
       "}\n",
       ".hoogle-name {\n",
       "color: green;\n",
       "font-weight: bold;\n",
       "}\n",
       ".hoogle-head {\n",
       "font-weight: bold;\n",
       "}\n",
       ".hoogle-sub {\n",
       "display: block;\n",
       "margin-left: 0.4em;\n",
       "}\n",
       ".hoogle-package {\n",
       "font-weight: bold;\n",
       "font-style: italic;\n",
       "}\n",
       ".hoogle-module {\n",
       "font-weight: bold;\n",
       "}\n",
       ".hoogle-class {\n",
       "font-weight: bold;\n",
       "}\n",
       ".get-type {\n",
       "color: green;\n",
       "font-weight: bold;\n",
       "font-family: monospace;\n",
       "display: block;\n",
       "white-space: pre-wrap;\n",
       "}\n",
       ".show-type {\n",
       "color: green;\n",
       "font-weight: bold;\n",
       "font-family: monospace;\n",
       "margin-left: 1em;\n",
       "}\n",
       ".mono {\n",
       "font-family: monospace;\n",
       "display: block;\n",
       "}\n",
       ".err-msg {\n",
       "color: red;\n",
       "font-style: italic;\n",
       "font-family: monospace;\n",
       "white-space: pre;\n",
       "display: block;\n",
       "}\n",
       "#unshowable {\n",
       "color: red;\n",
       "font-weight: bold;\n",
       "}\n",
       ".err-msg.in.collapse {\n",
       "padding-top: 0.7em;\n",
       "}\n",
       ".highlight-code {\n",
       "white-space: pre;\n",
       "font-family: monospace;\n",
       "}\n",
       ".suggestion-warning { \n",
       "font-weight: bold;\n",
       "color: rgb(200, 130, 0);\n",
       "}\n",
       ".suggestion-error { \n",
       "font-weight: bold;\n",
       "color: red;\n",
       "}\n",
       ".suggestion-name {\n",
       "font-weight: bold;\n",
       "}\n",
       "</style><div class=\"suggestion-name\" style=\"clear:both;\">Use foldr</div><div class=\"suggestion-row\" style=\"float: left;\"><div class=\"suggestion-warning\">Found:</div><div class=\"highlight-code\" id=\"haskell\">sum_ [] = 0\n",
       "sum_ (n : ns) = n + sum_ ns</div></div><div class=\"suggestion-row\" style=\"float: left;\"><div class=\"suggestion-warning\">Why Not:</div><div class=\"highlight-code\" id=\"haskell\">sum_ ns = foldr (+) 0 ns</div></div>"
      ],
      "text/plain": [
       "Line 2: Use foldr\n",
       "Found:\n",
       "sum_ [] = 0\n",
       "sum_ (n : ns) = n + sum_ ns\n",
       "Why not:\n",
       "sum_ ns = foldr (+) 0 ns"
      ]
     },
     "metadata": {},
     "output_type": "display_data"
    }
   ],
   "source": [
    "sum_ :: [Integer] -> Integer\n",
    "sum_ []= 0\n",
    "sum_ (n:ns) = n + sum_ ns"
   ]
  },
  {
   "cell_type": "markdown",
   "metadata": {},
   "source": [
    "위 정의는 다음을 말하고 있다. \n",
    "\n",
    "* 공리스트인 경우: 모든 항목들의 합은 0이다.\n",
    "* 리스트의 첫째 항목이 `n`이고 나머지 항목들로 구성된 리스트가 `ns`인 경우: \n",
    "    모든 항목들의 합은 `n`과 나머지 항목들의 합을 더한 값이다. \n",
    "    \n",
    "좀 더 수학적으로 표현하면 다음과 같다.\n",
    "\n",
    "$$\n",
    "\\text{sum}_{-}(\\text{xs})= \n",
    "\\begin{cases}\n",
    "0,  & \\text{if}\\;\\; \\text{xs = []}\\\\\n",
    "\\text{n} + \\text{sum}_{-}(\\text{ns}), &  \\text{if}\\;\\; \\text{xs = n:ns}\n",
    "\\end{cases}\n",
    "$$\n",
    "\n",
    "즉, `sum_` 인자의 형태를 이용하면서 동시에 재귀를 이용하여 정의되었다. \n",
    "그런데 하스켈 인터프리터는 리스트의 형태(패턴)를 어떻게 파악할까? "
   ]
  },
  {
   "cell_type": "markdown",
   "metadata": {},
   "source": [
    "파이썬, 자바 등의 언어는 위와 같은 형식의 정의를 지원하지 않는다. \n",
    "파이썬의 경우 `sum_` 함수는 보통 다음과 같이 정의한다. \n",
    "\n",
    "```python\n",
    "def sum_(xs):\n",
    "    if len(xs) == 0:\n",
    "        return 0\n",
    "    else:\n",
    "        return xs[0] + sum_(xs[1:])\n",
    "```\n",
    "\n",
    "즉, 인자의 형태를 보고 판단하는 것이 아니라 인자로 들어온 값의 길이에 따라\n",
    "처리 방식을 달리한다.\n",
    "예를 들어, 길이가 0이 아니면, 인자가 하나 이상일 것이기 때문에 첫째 항목과 나머지로\n",
    "구분할 수 있다고 **가정**하고, 그 가정에 맞춘 계산을 지정한다. \n",
    "\n",
    "다시 말해, 파이썬, 자바 등의 명령형 프로그래밍 언어는 인자가 어떤 형태인지 파악하지 않거나 못한다. \n",
    "아마도 후자일 것이며, 이유는 자료형을 구현할 때,\n",
    "정의된 자료형을 구조적으로 파악할 수 있는 도구를 함께 제공하지 못하는 방식을 사용하기 때문일 것이다. "
   ]
  },
  {
   "cell_type": "markdown",
   "metadata": {},
   "source": [
    "반면에 하스켈 등의 함수형 프로그래밍 언어는\n",
    "애초부터 구조적으로 파악할 수 있는 방식으로  유형을 정의한다.\n",
    "\n",
    "재귀적으로 유형을 정의하는 방법을 예를 통해 설명하면서 \n",
    "재귀와 패턴 매칭의 연관성을 밑바닥부터 자세히 알아본다. \n",
    "재귀적 유형에 대한 자세한 설명은 이후에 다룰 것이다."
   ]
  },
  {
   "cell_type": "markdown",
   "metadata": {},
   "source": [
    "## 재귀적 유형 예제"
   ]
  },
  {
   "cell_type": "markdown",
   "metadata": {},
   "source": [
    "유형을 선언하는 여러 방식이 있다. \n",
    "여기서는 정수 리스트, 즉 정수들로 구성된 리스트들의 유형을 재귀적으로 선언하면서 재귀적 유형 선언 방식을 소개한다. \n",
    "\n",
    "재귀적 유형을 선언하려면 먼저 `data` 키워드를 사용한다.\n",
    "또한 선언되는 유형의 값을 생성하는 **구성자**(constructor)들을 한 개 이상 지정한다.\n",
    "구성자들 사이의 구분은 **파이프**라 불리는 작대기 모양의 기호(`'|'`)에 의해 이루어진다. \n",
    "엄밀히 말해 구성자는 모두 함수이며, 해당 유형의 값을 생성하는 도구 역할을 수행한다.\n",
    "\n",
    "```haskell\n",
    "data TypeName =   Constructor_1 ArgType_11 ... ArgType_1N_1\n",
    "                | Constructor_2 ArgType_21 ... ArgType_2N_2\n",
    "                ...\n",
    "                | Constructor_n ArgType_n1 ... ArgType_nN_n\n",
    "```\n",
    "\n",
    "**주의:** \n",
    "* 유형과 구성자 이름 모두 대문자로 시작해야 한다.\n",
    "* 만약에 `kN_k`가 0이면 해당 구성자는 인자를 받지 않는 상수값이 된다."
   ]
  },
  {
   "cell_type": "markdown",
   "metadata": {},
   "source": [
    "#### 참고사항\n",
    "\n",
    "재귀적 유형(recursive types)을 **귀납적 유형**(inductive types)이라 부르기도 한다.\n",
    "예를 들어, 많은 수리논리 전공서적과 Coq 증명보조기에서 귀납적 유형이란 표현을 사용하며,\n",
    "수학 증명을 할 때 귀납적 증명이란 표현을 사용한다.\n",
    "반면에 재귀란 표현은 함수를 재귀적으로 정의할 때, 즉, 재귀 함수에 대해서만 사용한다. \n",
    "\n",
    "하지만 '재귀적'과 '귀납적' 두 표현에 대한 엄밀한 구분은 경우에 따라 불가능하다.\n",
    "따라서 여기서는 두 개념을 구분하지 않고, 재귀 표현으로 통일해서 사용한다. "
   ]
  },
  {
   "cell_type": "markdown",
   "metadata": {},
   "source": [
    "### 정수 리스트\n",
    "\n",
    "구성자를 지정하려면 선언되는 유형들의 형태(패턴)을 먼저 파악해야 하는데,\n",
    "값들이 어떤 패턴을 갖는가를 알려면 해당 유형을 갖는 값들을 생성하는 방법을 파악해야 한다. \n",
    "예를 들어, 정수 리스트는 다음 두 가지 방식 중 하나로 생성할 수 있다.\n",
    "\n",
    "* 아무런 항목도 포함하지 않는 리스트, 즉 공리스트 `[]`를 생성하거나,\n",
    "* 임의의 정수 `n`과 임의의 정수 리스트 `ns`를 이용하여 새로운 정수 리스트 `n:ns`를 생성한다.\n",
    "\n",
    "따라서 두 개의 구성자를 필요해야 한다.\n",
    "\n",
    "* 공리스트를 생성하는 구성자\n",
    "    * 이 구성자는 아무 것도 이용하지 않으면서 공리스트를 생성해야 한다. \n",
    "    * 이런 경우 구성자는 상수(constant)와 같으며, 구성자 자체를 공리스트로 간주한다.\n",
    "\n",
    "\n",
    "* 하나의 정수와 하나의 정수 리스트를 이용하여 새로운 정수 리스트를 생성하는 구성자\n",
    "    * 이 구성자는 두 개의 인자를 받는다.\n",
    "    * 첫째 인자: 정수\n",
    "    * 둘째 인자: 정수 리스트\n",
    "    \n",
    "구성자의 이름은 임의로 지정할 수 있다. \n",
    "리스트의 경우 공리스트는 `Nil`, 정수와 리스트를 이용하여 새로운 리스트를 생성하는 구성자는 `Cons`로\n",
    "관행적으로 부른다. \n",
    "따라서 정수 리스트 유형의 이름을 `IntList`로 할 경우 \n",
    "다음처럼 `IntList`를 선언한다. "
   ]
  },
  {
   "cell_type": "code",
   "execution_count": 1,
   "metadata": {},
   "outputs": [],
   "source": [
    "data IntList =   Nil \n",
    "               | Cons Integer IntList"
   ]
  },
  {
   "cell_type": "markdown",
   "metadata": {},
   "source": [
    "`IntList`에 사용된 두 개의 구성자의 역할을 다시 한 번 확인하면 다음과 같다.\n",
    "\n",
    "* `Nil`: 인자를 받지 않는 함수, 즉, 하나의 상수(constant)이며, \n",
    "    여기서는 공리스트를 가리킨다.\n",
    "* `Cons`: 인자 두 개를 받는 함수이며, 여기서는 하나의 정수와 다른 정수 리스트를 받아\n",
    "    새로운 정수 리스트를 만드는 함수를 가리킨다. \n",
    "\n",
    "`IntList` 유형이 재귀적으로 선언되었음에 주의한다. \n",
    "실제로 `Cons`의 둘째 인자가 `IntList` 유형의 값이어야 한다. "
   ]
  },
  {
   "cell_type": "markdown",
   "metadata": {},
   "source": [
    "#### `IntList`의 진짜 의미\n",
    "\n",
    "위 정의가 실제로 의미하는 바는 다음과 같다. \n",
    "\n",
    "`IntList` 유형을 갖는 값은 아래 두 가지 방식 중 하나를 이용해서만 생성할 수 있으며,\n",
    "다른 방식은 허용되지 않는다.\n",
    "* 첫째 방식: `Nil` 자체가 `IntList` 유형을 갖는 값이다\n",
    "* 둘째 방식: `n`이 `Integer` 유형의 값, 즉, 하나의 정수이고,\n",
    "    `ns`가 (이미) `IntList`의 유형의 값이면 \n",
    "    `Cons n ns` 또한 `IntList` 유형의 값이다."
   ]
  },
  {
   "cell_type": "markdown",
   "metadata": {},
   "source": [
    "**참고:** Cons는 construct의 줄임말이며,\n",
    "    프로그래밍언어론 분야에서 많이 사용되는 표현이다.\n",
    "    `Cons n ns`가 `n`과 `ns`를 이용하여 새로운 리스트를 생성한다는 의미와 일맥상통한다."
   ]
  },
  {
   "cell_type": "markdown",
   "metadata": {},
   "source": [
    "### 정수 리스트 예제\n",
    "\n",
    "`IntList` 유형을 갖는 값들은 예를 들어 다음과 같다."
   ]
  },
  {
   "cell_type": "markdown",
   "metadata": {},
   "source": [
    "* 공리스트"
   ]
  },
  {
   "cell_type": "code",
   "execution_count": 2,
   "metadata": {},
   "outputs": [
    {
     "data": {
      "text/html": [
       "<style>/* Styles used for the Hoogle display in the pager */\n",
       ".hoogle-doc {\n",
       "display: block;\n",
       "padding-bottom: 1.3em;\n",
       "padding-left: 0.4em;\n",
       "}\n",
       ".hoogle-code {\n",
       "display: block;\n",
       "font-family: monospace;\n",
       "white-space: pre;\n",
       "}\n",
       ".hoogle-text {\n",
       "display: block;\n",
       "}\n",
       ".hoogle-name {\n",
       "color: green;\n",
       "font-weight: bold;\n",
       "}\n",
       ".hoogle-head {\n",
       "font-weight: bold;\n",
       "}\n",
       ".hoogle-sub {\n",
       "display: block;\n",
       "margin-left: 0.4em;\n",
       "}\n",
       ".hoogle-package {\n",
       "font-weight: bold;\n",
       "font-style: italic;\n",
       "}\n",
       ".hoogle-module {\n",
       "font-weight: bold;\n",
       "}\n",
       ".hoogle-class {\n",
       "font-weight: bold;\n",
       "}\n",
       ".get-type {\n",
       "color: green;\n",
       "font-weight: bold;\n",
       "font-family: monospace;\n",
       "display: block;\n",
       "white-space: pre-wrap;\n",
       "}\n",
       ".show-type {\n",
       "color: green;\n",
       "font-weight: bold;\n",
       "font-family: monospace;\n",
       "margin-left: 1em;\n",
       "}\n",
       ".mono {\n",
       "font-family: monospace;\n",
       "display: block;\n",
       "}\n",
       ".err-msg {\n",
       "color: red;\n",
       "font-style: italic;\n",
       "font-family: monospace;\n",
       "white-space: pre;\n",
       "display: block;\n",
       "}\n",
       "#unshowable {\n",
       "color: red;\n",
       "font-weight: bold;\n",
       "}\n",
       ".err-msg.in.collapse {\n",
       "padding-top: 0.7em;\n",
       "}\n",
       ".highlight-code {\n",
       "white-space: pre;\n",
       "font-family: monospace;\n",
       "}\n",
       ".suggestion-warning { \n",
       "font-weight: bold;\n",
       "color: rgb(200, 130, 0);\n",
       "}\n",
       ".suggestion-error { \n",
       "font-weight: bold;\n",
       "color: red;\n",
       "}\n",
       ".suggestion-name {\n",
       "font-weight: bold;\n",
       "}\n",
       "</style><span class='get-type'>Nil :: IntList</span>"
      ],
      "text/plain": [
       "Nil :: IntList"
      ]
     },
     "metadata": {},
     "output_type": "display_data"
    }
   ],
   "source": [
    ":t Nil"
   ]
  },
  {
   "cell_type": "markdown",
   "metadata": {},
   "source": [
    "* `[1]`에 해당하는 값"
   ]
  },
  {
   "cell_type": "code",
   "execution_count": 3,
   "metadata": {},
   "outputs": [
    {
     "data": {
      "text/html": [
       "<style>/* Styles used for the Hoogle display in the pager */\n",
       ".hoogle-doc {\n",
       "display: block;\n",
       "padding-bottom: 1.3em;\n",
       "padding-left: 0.4em;\n",
       "}\n",
       ".hoogle-code {\n",
       "display: block;\n",
       "font-family: monospace;\n",
       "white-space: pre;\n",
       "}\n",
       ".hoogle-text {\n",
       "display: block;\n",
       "}\n",
       ".hoogle-name {\n",
       "color: green;\n",
       "font-weight: bold;\n",
       "}\n",
       ".hoogle-head {\n",
       "font-weight: bold;\n",
       "}\n",
       ".hoogle-sub {\n",
       "display: block;\n",
       "margin-left: 0.4em;\n",
       "}\n",
       ".hoogle-package {\n",
       "font-weight: bold;\n",
       "font-style: italic;\n",
       "}\n",
       ".hoogle-module {\n",
       "font-weight: bold;\n",
       "}\n",
       ".hoogle-class {\n",
       "font-weight: bold;\n",
       "}\n",
       ".get-type {\n",
       "color: green;\n",
       "font-weight: bold;\n",
       "font-family: monospace;\n",
       "display: block;\n",
       "white-space: pre-wrap;\n",
       "}\n",
       ".show-type {\n",
       "color: green;\n",
       "font-weight: bold;\n",
       "font-family: monospace;\n",
       "margin-left: 1em;\n",
       "}\n",
       ".mono {\n",
       "font-family: monospace;\n",
       "display: block;\n",
       "}\n",
       ".err-msg {\n",
       "color: red;\n",
       "font-style: italic;\n",
       "font-family: monospace;\n",
       "white-space: pre;\n",
       "display: block;\n",
       "}\n",
       "#unshowable {\n",
       "color: red;\n",
       "font-weight: bold;\n",
       "}\n",
       ".err-msg.in.collapse {\n",
       "padding-top: 0.7em;\n",
       "}\n",
       ".highlight-code {\n",
       "white-space: pre;\n",
       "font-family: monospace;\n",
       "}\n",
       ".suggestion-warning { \n",
       "font-weight: bold;\n",
       "color: rgb(200, 130, 0);\n",
       "}\n",
       ".suggestion-error { \n",
       "font-weight: bold;\n",
       "color: red;\n",
       "}\n",
       ".suggestion-name {\n",
       "font-weight: bold;\n",
       "}\n",
       "</style><span class='get-type'>(Cons 1 Nil) :: IntList</span>"
      ],
      "text/plain": [
       "(Cons 1 Nil) :: IntList"
      ]
     },
     "metadata": {},
     "output_type": "display_data"
    }
   ],
   "source": [
    ":t (Cons 1 Nil)"
   ]
  },
  {
   "cell_type": "markdown",
   "metadata": {},
   "source": [
    "* `[1, 2]`에 해당하는 값"
   ]
  },
  {
   "cell_type": "code",
   "execution_count": 4,
   "metadata": {},
   "outputs": [
    {
     "data": {
      "text/html": [
       "<style>/* Styles used for the Hoogle display in the pager */\n",
       ".hoogle-doc {\n",
       "display: block;\n",
       "padding-bottom: 1.3em;\n",
       "padding-left: 0.4em;\n",
       "}\n",
       ".hoogle-code {\n",
       "display: block;\n",
       "font-family: monospace;\n",
       "white-space: pre;\n",
       "}\n",
       ".hoogle-text {\n",
       "display: block;\n",
       "}\n",
       ".hoogle-name {\n",
       "color: green;\n",
       "font-weight: bold;\n",
       "}\n",
       ".hoogle-head {\n",
       "font-weight: bold;\n",
       "}\n",
       ".hoogle-sub {\n",
       "display: block;\n",
       "margin-left: 0.4em;\n",
       "}\n",
       ".hoogle-package {\n",
       "font-weight: bold;\n",
       "font-style: italic;\n",
       "}\n",
       ".hoogle-module {\n",
       "font-weight: bold;\n",
       "}\n",
       ".hoogle-class {\n",
       "font-weight: bold;\n",
       "}\n",
       ".get-type {\n",
       "color: green;\n",
       "font-weight: bold;\n",
       "font-family: monospace;\n",
       "display: block;\n",
       "white-space: pre-wrap;\n",
       "}\n",
       ".show-type {\n",
       "color: green;\n",
       "font-weight: bold;\n",
       "font-family: monospace;\n",
       "margin-left: 1em;\n",
       "}\n",
       ".mono {\n",
       "font-family: monospace;\n",
       "display: block;\n",
       "}\n",
       ".err-msg {\n",
       "color: red;\n",
       "font-style: italic;\n",
       "font-family: monospace;\n",
       "white-space: pre;\n",
       "display: block;\n",
       "}\n",
       "#unshowable {\n",
       "color: red;\n",
       "font-weight: bold;\n",
       "}\n",
       ".err-msg.in.collapse {\n",
       "padding-top: 0.7em;\n",
       "}\n",
       ".highlight-code {\n",
       "white-space: pre;\n",
       "font-family: monospace;\n",
       "}\n",
       ".suggestion-warning { \n",
       "font-weight: bold;\n",
       "color: rgb(200, 130, 0);\n",
       "}\n",
       ".suggestion-error { \n",
       "font-weight: bold;\n",
       "color: red;\n",
       "}\n",
       ".suggestion-name {\n",
       "font-weight: bold;\n",
       "}\n",
       "</style><span class='get-type'>(Cons 1 (Cons 2 Nil)) :: IntList</span>"
      ],
      "text/plain": [
       "(Cons 1 (Cons 2 Nil)) :: IntList"
      ]
     },
     "metadata": {},
     "output_type": "display_data"
    }
   ],
   "source": [
    ":t (Cons 1 (Cons 2 Nil))"
   ]
  },
  {
   "cell_type": "markdown",
   "metadata": {},
   "source": [
    "* `[1, 2, 3]`에 해당하는 값"
   ]
  },
  {
   "cell_type": "code",
   "execution_count": 5,
   "metadata": {},
   "outputs": [
    {
     "data": {
      "text/html": [
       "<style>/* Styles used for the Hoogle display in the pager */\n",
       ".hoogle-doc {\n",
       "display: block;\n",
       "padding-bottom: 1.3em;\n",
       "padding-left: 0.4em;\n",
       "}\n",
       ".hoogle-code {\n",
       "display: block;\n",
       "font-family: monospace;\n",
       "white-space: pre;\n",
       "}\n",
       ".hoogle-text {\n",
       "display: block;\n",
       "}\n",
       ".hoogle-name {\n",
       "color: green;\n",
       "font-weight: bold;\n",
       "}\n",
       ".hoogle-head {\n",
       "font-weight: bold;\n",
       "}\n",
       ".hoogle-sub {\n",
       "display: block;\n",
       "margin-left: 0.4em;\n",
       "}\n",
       ".hoogle-package {\n",
       "font-weight: bold;\n",
       "font-style: italic;\n",
       "}\n",
       ".hoogle-module {\n",
       "font-weight: bold;\n",
       "}\n",
       ".hoogle-class {\n",
       "font-weight: bold;\n",
       "}\n",
       ".get-type {\n",
       "color: green;\n",
       "font-weight: bold;\n",
       "font-family: monospace;\n",
       "display: block;\n",
       "white-space: pre-wrap;\n",
       "}\n",
       ".show-type {\n",
       "color: green;\n",
       "font-weight: bold;\n",
       "font-family: monospace;\n",
       "margin-left: 1em;\n",
       "}\n",
       ".mono {\n",
       "font-family: monospace;\n",
       "display: block;\n",
       "}\n",
       ".err-msg {\n",
       "color: red;\n",
       "font-style: italic;\n",
       "font-family: monospace;\n",
       "white-space: pre;\n",
       "display: block;\n",
       "}\n",
       "#unshowable {\n",
       "color: red;\n",
       "font-weight: bold;\n",
       "}\n",
       ".err-msg.in.collapse {\n",
       "padding-top: 0.7em;\n",
       "}\n",
       ".highlight-code {\n",
       "white-space: pre;\n",
       "font-family: monospace;\n",
       "}\n",
       ".suggestion-warning { \n",
       "font-weight: bold;\n",
       "color: rgb(200, 130, 0);\n",
       "}\n",
       ".suggestion-error { \n",
       "font-weight: bold;\n",
       "color: red;\n",
       "}\n",
       ".suggestion-name {\n",
       "font-weight: bold;\n",
       "}\n",
       "</style><span class='get-type'>(Cons 1 (Cons 2 (Cons 3 Nil))) :: IntList</span>"
      ],
      "text/plain": [
       "(Cons 1 (Cons 2 (Cons 3 Nil))) :: IntList"
      ]
     },
     "metadata": {},
     "output_type": "display_data"
    }
   ],
   "source": [
    ":t (Cons 1 (Cons 2 (Cons 3 Nil)))"
   ]
  },
  {
   "cell_type": "markdown",
   "metadata": {},
   "source": [
    "#### 주의사항: 화면 출력 오류\n",
    "\n",
    "다음과 같이 입력하고 실행하면 오류가 발생한다. "
   ]
  },
  {
   "cell_type": "code",
   "execution_count": 6,
   "metadata": {},
   "outputs": [
    {
     "ename": "",
     "evalue": "",
     "output_type": "error",
     "traceback": [
      "<interactive>:1:1: error:\n    • No instance for (Show IntList) arising from a use of ‘print’\n    • In a stmt of an interactive GHCi command: print it"
     ]
    }
   ],
   "source": [
    "Cons 1 (Cons 2 (Cons 3 Nil))"
   ]
  },
  {
   "cell_type": "markdown",
   "metadata": {},
   "source": [
    "위 오류가 발생하는 이유는 `IntList` 유형의 값을 화면에 출력하는 기능이 지원되지 않기 때문이다.\n",
    "이를 교정하는 방법은 `IntList`를 `Show` 클래스의 인스턴스로 지정하는 것이다.\n",
    "일단 여기서는 필요하지 않기에 다음에 다루기로 하고 일단 넘어가도록 한다."
   ]
  },
  {
   "cell_type": "markdown",
   "metadata": {},
   "source": [
    "**참고사항:** 파이썬 클래스를 잘 안다면 `__repr__` 메소드와 연관시켜 이해할 수 있다. \n",
    "하지만 여기서 자세한 설명은 하지 않는다."
   ]
  },
  {
   "cell_type": "markdown",
   "metadata": {},
   "source": [
    "## `IntList`와 패턴 매칭"
   ]
  },
  {
   "cell_type": "markdown",
   "metadata": {},
   "source": [
    "`IntList` 유형은 정수로 이루어진 리스트들의 유형 즉, `[Integer]`와 동형(isomorphic)이다.\n",
    "두 유형의 동형성을 몇 가지 예를 통해 보이고자 한다. "
   ]
  },
  {
   "cell_type": "markdown",
   "metadata": {},
   "source": [
    "### 항목들의 합 구하기"
   ]
  },
  {
   "cell_type": "markdown",
   "metadata": {},
   "source": [
    "정수 리스트에 포함된 항목들의 합을 계산하는 `sum_` 함수를 `IntList` 유형에 대해 \n",
    "동일하게 작동하는 함수 `intSum`을 구현해보자.\n",
    "\n",
    "`intSum`은 인자로 들어오는 `IntList` 유형의 값들이 갖는 형태(패턴)를 이용하여 정의된다.\n",
    "즉, 인자들의 패턴(형태)에 따른 값을 매칭(지정)하는 방식으로 `intSum`을 선언한다.\n",
    "\n",
    "그런데 `IntList` 유형의 값은 다음 두 가지 형태 중 하나를 갖는다.\n",
    "\n",
    "* `Nil'` 또는\n",
    "* `Cons n ns`.\n",
    "    * 단 `n`은 정수이고 `ns`는 `IntList` 유형을 갖는다.\n",
    "    \n",
    "따라서 `intSum`을 다음과 같이 정의될 수 있다."
   ]
  },
  {
   "cell_type": "code",
   "execution_count": 7,
   "metadata": {},
   "outputs": [],
   "source": [
    "intSum :: IntList -> Integer\n",
    "intSum Nil = 0\n",
    "intSum (Cons n ns) = n + intSum ns"
   ]
  },
  {
   "cell_type": "markdown",
   "metadata": {},
   "source": [
    "위 정의는 재귀적으로 선언되었음에 주의하라. \n",
    "또한 `sum_` 함수의 정의와 사실상 동일하다. \n",
    "\n",
    "* `Nil`: `[]`에 대응\n",
    "* `Cons n ns`: `(n:ns)`에 대응\n",
    "\n",
    "다만, 정수 리스트들의 유형을 `[Integer]`에서 `IntList`로 바뀐 것 뿐이다."
   ]
  },
  {
   "cell_type": "markdown",
   "metadata": {},
   "source": [
    "#### `intSum` 활용 예제"
   ]
  },
  {
   "cell_type": "markdown",
   "metadata": {},
   "source": [
    "* 공리스트 항목의 합은 0"
   ]
  },
  {
   "cell_type": "code",
   "execution_count": 8,
   "metadata": {},
   "outputs": [
    {
     "data": {
      "text/plain": [
       "0"
      ]
     },
     "metadata": {},
     "output_type": "display_data"
    }
   ],
   "source": [
    "intSum Nil"
   ]
  },
  {
   "cell_type": "markdown",
   "metadata": {},
   "source": [
    "* `[1]` 항목의 합은 1"
   ]
  },
  {
   "cell_type": "code",
   "execution_count": 9,
   "metadata": {},
   "outputs": [
    {
     "data": {
      "text/plain": [
       "1"
      ]
     },
     "metadata": {},
     "output_type": "display_data"
    }
   ],
   "source": [
    "intSum (Cons 1 Nil)"
   ]
  },
  {
   "cell_type": "markdown",
   "metadata": {},
   "source": [
    "* `[1, 2]` 항목의 합은 3"
   ]
  },
  {
   "cell_type": "code",
   "execution_count": 10,
   "metadata": {},
   "outputs": [
    {
     "data": {
      "text/plain": [
       "3"
      ]
     },
     "metadata": {},
     "output_type": "display_data"
    }
   ],
   "source": [
    "intSum (Cons 1 (Cons 2 Nil))"
   ]
  },
  {
   "cell_type": "markdown",
   "metadata": {},
   "source": [
    "* `[1, 2, 3]` 항목의 합은 6"
   ]
  },
  {
   "cell_type": "code",
   "execution_count": 11,
   "metadata": {},
   "outputs": [
    {
     "data": {
      "text/plain": [
       "6"
      ]
     },
     "metadata": {},
     "output_type": "display_data"
    }
   ],
   "source": [
    "intSum (Cons 1 (Cons 2 (Cons 3 Nil)))"
   ]
  },
  {
   "cell_type": "markdown",
   "metadata": {},
   "source": [
    "### 리스트 관련 함수 직접 구현하기"
   ]
  },
  {
   "cell_type": "markdown",
   "metadata": {},
   "source": [
    "하스켈의 표준 라이브러리에 리스트를 다루는 다양한 도구들이 함수로 정의되어 있다."
   ]
  },
  {
   "cell_type": "markdown",
   "metadata": {},
   "source": [
    "* `head`: 공리스트가 아닌 리스트의 첫째 항목 계산하기"
   ]
  },
  {
   "cell_type": "code",
   "execution_count": 12,
   "metadata": {},
   "outputs": [
    {
     "data": {
      "text/plain": [
       "1"
      ]
     },
     "metadata": {},
     "output_type": "display_data"
    }
   ],
   "source": [
    "head [1..10]"
   ]
  },
  {
   "cell_type": "markdown",
   "metadata": {},
   "source": [
    "* `tail`: 공리스트가 아닌 리스트에서 첫째 항목을 제외한 나머지 항목들의 리스트 계산하기"
   ]
  },
  {
   "cell_type": "code",
   "execution_count": 13,
   "metadata": {},
   "outputs": [
    {
     "data": {
      "text/plain": [
       "[2,3,4,5,6,7,8,9,10]"
      ]
     },
     "metadata": {},
     "output_type": "display_data"
    }
   ],
   "source": [
    "tail [1..10]"
   ]
  },
  {
   "cell_type": "markdown",
   "metadata": {},
   "source": [
    "* `last`: 공리스트가 아닌 리스트의 마지막 항목 계산하기"
   ]
  },
  {
   "cell_type": "code",
   "execution_count": 14,
   "metadata": {},
   "outputs": [
    {
     "data": {
      "text/plain": [
       "10"
      ]
     },
     "metadata": {},
     "output_type": "display_data"
    }
   ],
   "source": [
    "last [1..10]"
   ]
  },
  {
   "cell_type": "markdown",
   "metadata": {},
   "source": [
    "* `init`: 공리스트가 아닌 리스트에서 마지막 항목을 제외한 나머지 항목들의 리스트 계산하기"
   ]
  },
  {
   "cell_type": "code",
   "execution_count": 15,
   "metadata": {},
   "outputs": [
    {
     "data": {
      "text/plain": [
       "[1,2,3,4,5,6,7,8,9]"
      ]
     },
     "metadata": {},
     "output_type": "display_data"
    }
   ],
   "source": [
    "init [1..10]"
   ]
  },
  {
   "cell_type": "markdown",
   "metadata": {},
   "source": [
    "* `!!`: 리스트의 n번째 항목 계산하기. (n은 0부터 시작)"
   ]
  },
  {
   "cell_type": "code",
   "execution_count": 16,
   "metadata": {},
   "outputs": [
    {
     "data": {
      "text/plain": [
       "4"
      ]
     },
     "metadata": {},
     "output_type": "display_data"
    }
   ],
   "source": [
    "[1..10] !! 3"
   ]
  },
  {
   "cell_type": "markdown",
   "metadata": {},
   "source": [
    "**주의사항:** `!!`는 사칙연산자들처럼 두 인자 사이에 위치하는 중위 함수(infix function)이다.\n",
    "이처럼 인자 두 개를 받는 함수는 중위 표기법(infix notation)을 적용할 수 있다.\n",
    "이에 대해서 나중에 자세히 다룬다."
   ]
  },
  {
   "cell_type": "markdown",
   "metadata": {},
   "source": [
    "* `take`: 리스트의 첫 n개 항목으로 구성된 리스트 계산하기"
   ]
  },
  {
   "cell_type": "code",
   "execution_count": 17,
   "metadata": {},
   "outputs": [
    {
     "data": {
      "text/plain": [
       "[1,2,3,4]"
      ]
     },
     "metadata": {},
     "output_type": "display_data"
    }
   ],
   "source": [
    "take 4 [1..10]"
   ]
  },
  {
   "cell_type": "markdown",
   "metadata": {},
   "source": [
    "* `drop`: 리스트에서 첫 n개 항목을 삭제하기"
   ]
  },
  {
   "cell_type": "code",
   "execution_count": 18,
   "metadata": {},
   "outputs": [
    {
     "data": {
      "text/plain": [
       "[5,6,7,8,9,10]"
      ]
     },
     "metadata": {},
     "output_type": "display_data"
    }
   ],
   "source": [
    "drop 4 [1..10]"
   ]
  },
  {
   "cell_type": "markdown",
   "metadata": {},
   "source": [
    "* `length`: 리스트의 길이 계산하기"
   ]
  },
  {
   "cell_type": "code",
   "execution_count": 19,
   "metadata": {},
   "outputs": [
    {
     "data": {
      "text/plain": [
       "10"
      ]
     },
     "metadata": {},
     "output_type": "display_data"
    }
   ],
   "source": [
    "length [1..10]"
   ]
  },
  {
   "cell_type": "markdown",
   "metadata": {},
   "source": [
    "* `sum`: 리스트의 모든 항목 더하기"
   ]
  },
  {
   "cell_type": "code",
   "execution_count": 20,
   "metadata": {},
   "outputs": [
    {
     "data": {
      "text/plain": [
       "55"
      ]
     },
     "metadata": {},
     "output_type": "display_data"
    }
   ],
   "source": [
    "sum [1..10]"
   ]
  },
  {
   "cell_type": "markdown",
   "metadata": {},
   "source": [
    "* `product`: 리스트의 모든 항목 곱하기"
   ]
  },
  {
   "cell_type": "code",
   "execution_count": 21,
   "metadata": {},
   "outputs": [
    {
     "data": {
      "text/plain": [
       "3628800"
      ]
     },
     "metadata": {},
     "output_type": "display_data"
    }
   ],
   "source": [
    "product [1..10]"
   ]
  },
  {
   "cell_type": "markdown",
   "metadata": {},
   "source": [
    "* `++`: 리스트 두 개 이어붙이기"
   ]
  },
  {
   "cell_type": "code",
   "execution_count": 22,
   "metadata": {},
   "outputs": [
    {
     "data": {
      "text/plain": [
       "[1,2,3,4,5,6,7,8,9,10]"
      ]
     },
     "metadata": {},
     "output_type": "display_data"
    }
   ],
   "source": [
    "[1..4] ++ [5..10]"
   ]
  },
  {
   "cell_type": "markdown",
   "metadata": {},
   "source": [
    "`++` 또한 중위 함수임에 주의한다."
   ]
  },
  {
   "cell_type": "markdown",
   "metadata": {},
   "source": [
    "* `reverse`: 항목들의 순서를 뒤집은 리스트 생성하기"
   ]
  },
  {
   "cell_type": "code",
   "execution_count": 23,
   "metadata": {},
   "outputs": [
    {
     "data": {
      "text/plain": [
       "[10,9,8,7,6,5,4,3,2,1]"
      ]
     },
     "metadata": {},
     "output_type": "display_data"
    }
   ],
   "source": [
    "reverse [1..10]"
   ]
  },
  {
   "cell_type": "markdown",
   "metadata": {},
   "source": [
    "이 중에 `head`와 `tail`를 `IntList` 유형에 대해 작동하는 함수로 구현해 보자.\n",
    "역시 패턴 매칭을 사용하면 쉽게 구현할 수 있다."
   ]
  },
  {
   "cell_type": "code",
   "execution_count": 24,
   "metadata": {},
   "outputs": [],
   "source": [
    "intHead :: IntList -> Integer\n",
    "intHead (Cons n ns) = n"
   ]
  },
  {
   "cell_type": "code",
   "execution_count": 25,
   "metadata": {},
   "outputs": [],
   "source": [
    "intTail :: IntList -> IntList\n",
    "intTail (Cons n ns) = ns"
   ]
  },
  {
   "cell_type": "markdown",
   "metadata": {},
   "source": [
    "`intHead`와 `intTail`은 공리스트에 대해서는 전혀 정의되어 있지 않다.\n",
    "따라서 공리스트를 인자로 사용하면 오류를 발생시킨다. "
   ]
  },
  {
   "cell_type": "code",
   "execution_count": 26,
   "metadata": {},
   "outputs": [
    {
     "ename": "",
     "evalue": "",
     "output_type": "error",
     "traceback": [
      "<interactive>:2:1-23: Non-exhaustive patterns in function intHead"
     ]
    }
   ],
   "source": [
    "intHead Nil"
   ]
  },
  {
   "cell_type": "code",
   "execution_count": 29,
   "metadata": {},
   "outputs": [
    {
     "ename": "",
     "evalue": "",
     "output_type": "error",
     "traceback": [
      "<interactive>:1:1: error:\n    • No instance for (Show IntList) arising from a use of ‘print’\n    • In a stmt of an interactive GHCi command: print it"
     ]
    }
   ],
   "source": [
    "intTail Nil"
   ]
  },
  {
   "cell_type": "markdown",
   "metadata": {},
   "source": [
    "오류를 발생시키지 않기 위해 공리스트 인자에 대해 오류처리를 할 수 있다.\n",
    "실제로 `head`, `tail`은 공리스트 인자에 대해 다음과 같이 작동한다. "
   ]
  },
  {
   "cell_type": "code",
   "execution_count": 30,
   "metadata": {},
   "outputs": [
    {
     "ename": "",
     "evalue": "",
     "output_type": "error",
     "traceback": [
      "Prelude.head: empty list"
     ]
    }
   ],
   "source": [
    "head []"
   ]
  },
  {
   "cell_type": "code",
   "execution_count": 31,
   "metadata": {},
   "outputs": [
    {
     "ename": "",
     "evalue": "",
     "output_type": "error",
     "traceback": [
      "Prelude.tail: empty list"
     ]
    }
   ],
   "source": [
    "tail []"
   ]
  },
  {
   "cell_type": "markdown",
   "metadata": {},
   "source": [
    "하지만 오류처리는 여기서 다룰 수 없다. 다음 기회에 배우도록 하자."
   ]
  },
  {
   "cell_type": "markdown",
   "metadata": {},
   "source": [
    "## 연습문제"
   ]
  },
  {
   "cell_type": "markdown",
   "metadata": {},
   "source": [
    "`IntList` 유형에 대해 \n",
    "`last`, `init`, `!!`, `take`, `drop`, `length`, `product`, `++`, `reverse` 처럼\n",
    "작동하는 함수들을 패턴 매칭을 이용하여 구현하라.\n"
   ]
  }
 ],
 "metadata": {
  "kernelspec": {
   "display_name": "Haskell",
   "language": "haskell",
   "name": "haskell"
  },
  "language_info": {
   "codemirror_mode": "ihaskell",
   "file_extension": ".hs",
   "name": "haskell",
   "pygments_lexer": "Haskell",
   "version": "8.6.5"
  }
 },
 "nbformat": 4,
 "nbformat_minor": 4
}
