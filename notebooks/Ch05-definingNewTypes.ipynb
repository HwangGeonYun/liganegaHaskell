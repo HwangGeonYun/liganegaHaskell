{
 "cells": [
  {
   "cell_type": "markdown",
   "metadata": {},
   "source": [
    "# 새 유형 정의하기"
   ]
  },
  {
   "cell_type": "markdown",
   "metadata": {},
   "source": [
    "기본 유형과 이미 선언된 유형을 이용하여 새 유형을 정의할 수 있다.\n",
    "새롭게 정의될 수 있는 유형들을 다음과 같으며 적절한 도구를 사용하여 해당 유형을 새롭게 정의한다. \n",
    "\n",
    "* 리스트 유형 \n",
    "* 튜플 유형\n",
    "* 함수 유형\n",
    "* 다형 유형\n",
    "* 사용자 정의 유형"
   ]
  },
  {
   "cell_type": "markdown",
   "metadata": {},
   "source": [
    "## 리스트 유형"
   ]
  },
  {
   "cell_type": "markdown",
   "metadata": {},
   "source": [
    "리스트는 동일한 유형의 값을 갖는 유한개의 값들을 하나로 묶어 들고 다니는 값이며, \n",
    "아래 형태를 갖는다. \n",
    "\n",
    "```haskell\n",
    "[t1, t2, ..., tn]\n",
    "```\n",
    "\n",
    "단, `n`은 임의의 자연수이고, `t1`, `t2`, ..., `tn` 모두 동일한 유형을 가져야 한다. \n",
    "\n",
    "`T`가 임의의 유형이고, `t1`, ..., `tn` 모두 `T` 유형을 갖는다면\n",
    "다음이 성립한다. \n",
    "\n",
    "```haskell\n",
    "[t1, t2, ..., tn] :: [T]\n",
    "```"
   ]
  },
  {
   "cell_type": "markdown",
   "metadata": {},
   "source": [
    "예를 들어 다음이 성립한다. \n",
    "\n",
    "```haskell\n",
    "['a', 'b', 'c'] :: [Char]\n",
    "[] :: [Char]\n",
    "[] :: [[Char]]\n",
    "[\"abc\", \"bc\", \"adegh\", \"zyxabc\"] :: [String]\n",
    "[1..10] :: [Integer]\n",
    "[[1, 2], [3, 4], [5, 6], [7, 8], [9, 10]] :: [[Integer]]\n",
    "[[[1, 2], [3, 4]], [[5, 6], [7, 8], [9, 10]]] :: [[[Integer]]]\n",
    "```\n",
    "\n",
    "리스트에 포함된 항목은 모두 동일한 유형을 가지며, 유형에 대한 제한은 없다. \n",
    "즉, 임의의 유형에 대한 리스트를 생성할 수 있다. \n",
    "\n",
    "길이가 0인 리스트, 즉 어떤 항목도 포함하지 않는 리스트를 **빈 리스트**라 부르며\n",
    "`[]`로 표기한다. \n",
    "`\"\"`와 `\" \"`의 경우처럼 `[]`와 `[[]]`가 다름에 주의한다. \n",
    "또한 빈 리스트의 유형은 명확하지 않을 수 있다.\n",
    "따라서 아래와 같이 어떤 유형의 빈 리스트인지 지정하기도 한다. "
   ]
  },
  {
   "cell_type": "code",
   "execution_count": null,
   "metadata": {},
   "outputs": [],
   "source": [
    ":t ([] :: [Float])"
   ]
  },
  {
   "cell_type": "markdown",
   "metadata": {},
   "source": [
    "빈 리스트를 비교할 때 자료형이 동일하면 `True` 를 계산한다."
   ]
  },
  {
   "cell_type": "code",
   "execution_count": null,
   "metadata": {},
   "outputs": [],
   "source": [
    "([] :: [Int]) == ([] :: [Int])"
   ]
  },
  {
   "cell_type": "markdown",
   "metadata": {},
   "source": [
    "하지만 자료형이 다르면 서로 자료형이 다르다면서 오류를 발생시킨다. "
   ]
  },
  {
   "cell_type": "code",
   "execution_count": null,
   "metadata": {},
   "outputs": [],
   "source": [
    "([] :: [Int]) == ([] :: [Integer])"
   ]
  },
  {
   "cell_type": "markdown",
   "metadata": {},
   "source": [
    "### 주의사항\n",
    "\n",
    "1. 문자열 유형 `String`은 문자들의 리스트 유형인 `[Char]`를 달리 부르는 표현이다.\n",
    "따라서 빈문자열은 문자들의 빈 리스트에 해당한다. "
   ]
  },
  {
   "cell_type": "code",
   "execution_count": null,
   "metadata": {},
   "outputs": [],
   "source": [
    "([] :: String) == \"\""
   ]
  },
  {
   "cell_type": "markdown",
   "metadata": {},
   "source": [
    "2. 리스트의 길이에는 제한이 없다. 따라서 무한 리스트도 정의되어 활요될 수 있다. \n",
    "    예를 들어, `[0..]`는 모든 자연수를 담고 있는 정수들의 리스트이다. \n",
    "    이것이 가능한 이유는 앞서 설명한 소극적 계산법과 관련되어 있으며, 자세한 내용은 나중에 다룰 것이다.\n",
    "    \n",
    "    여기서는 `[0..]`이 정말로 모든 자연수들의 리스트임을 보여주는 예제만 몇 개 보여준다. \n",
    "    아래 예제들은 리스트 관련 함수들 중에서 유한 시간내에 계산을 마치는 함수만 보여준다. \n",
    "    `length` 함수의 경우처럼 계산이 멈추지 않을 수도 있음에 주의해야 한다. \n",
    "    즉, 아래와 같이 실행하면 ghci가 멈추지 않으며, 강제로 종료시켜야 한다. \n",
    "    \n",
    "    ```haskell\n",
    "    length [0..]\n",
    "    ```\n",
    "    \n",
    "    위 설명에서 사용된 `[0..]` 보았듯이 리스트 자체와 리스트의 유형은 리스트의 길이에 대한 정보를 전혀 갖고 있지 않다.\n",
    "    또한 `[True, False]`와 `[False, False, True]`의 경우처럼 길이가 다른 두 리스트의 유형은 \n",
    "    `[Bool]`로 동일하다. "
   ]
  },
  {
   "cell_type": "code",
   "execution_count": null,
   "metadata": {},
   "outputs": [],
   "source": [
    "head [0..]"
   ]
  },
  {
   "cell_type": "code",
   "execution_count": null,
   "metadata": {},
   "outputs": [],
   "source": [
    "[0..] !! 3"
   ]
  },
  {
   "cell_type": "code",
   "execution_count": null,
   "metadata": {},
   "outputs": [],
   "source": [
    "take 15 [0..]"
   ]
  },
  {
   "cell_type": "markdown",
   "metadata": {},
   "source": [
    "## 튜플 유형"
   ]
  },
  {
   "cell_type": "markdown",
   "metadata": {},
   "source": [
    "튜플은 유한개의 값들을 하나로 묶어 들고 다니는 값이며, \n",
    "아래 형태를 갖는다. \n",
    "\n",
    "```haskell\n",
    "(t1, t2, ..., tn)\n",
    "```\n",
    "\n",
    "단, `n`은 0이거나 2보다 큰 임의의 자연수이다. \n",
    "\n",
    "`T1`, `T2`, ..., `Tn`이 임의의 유형이고, `ti`가 유형 `Ti`를 갖는다면\n",
    "다음이 성립한다. \n",
    "\n",
    "```haskell\n",
    "(t1, t2, ..., tn) :: (T1, T2, ..., Tn)\n",
    "```\n",
    "\n",
    "길이가 0인 튜플을 **빈 튜플**empty tuple이라 부르며 `()`로 표기한다. \n",
    "\n",
    "**주의:** 길이가 1인 튜플은 허용되지 않는다. \n",
    "소괄호가 연산자 우선순위와 함수의 인자를 구분하는 데에 사용되기에 잘못하면 혼란을 야기할 수 있기 때문이다."
   ]
  },
  {
   "cell_type": "markdown",
   "metadata": {},
   "source": [
    "예를 들어 다음이 성립한다. \n",
    "\n",
    "```haskell\n",
    "('a', 'b') :: (Char, Char)\n",
    "('a', \"abc\", True) :: (Char, String, Bool)\n",
    "(('a', 'b'), True) :: ((Char, Char), Bool)\n",
    "(('a', 'b'), (\"abc\", True), False):: ((Char, Char), ([Char], Bool), Bool)\n",
    "```\n",
    "\n",
    "튜플에 포함된 항목들 각각 서로 다른 임의의 유형을 가지며, 유형에 대한 제한은 전혀 없다.\n",
    "즉, 임의의 조합으로 튜플을 생성할 수 있다. \n",
    "또한 길이에 따라 튜플의 유형도 함께 달라진다. \n",
    "\n",
    "빈 튜플을 제외한 나머지 튜플들의 길이는 2 이상이며,\n",
    "튜플의 길이는 튜플의 유형을 보면 바로 알 수 있다. \n",
    "즉, 튜플의 유형이 길이 정보를 함께 갖고 있으며, 모든 튜플의 길이는 유한하다. \n",
    "\n",
    "빈 튜플은 `unit`(유닛)이라 불리는 유형을 갖는 유일한 값이다.\n",
    "`unit` 유형은 빈 튜플과 동일한 방식인 `()`로 표기된다. "
   ]
  },
  {
   "cell_type": "code",
   "execution_count": null,
   "metadata": {},
   "outputs": [],
   "source": [
    ":t ()"
   ]
  },
  {
   "cell_type": "markdown",
   "metadata": {},
   "source": [
    "### 주의사항\n",
    "\n",
    "1. 문자열 유형 `String`은 문자들의 리스트 유형인 `[Char]`를 달리 부르는 표현이다.\n",
    "따라서 빈문자열은 문자들의 빈 리스트에 해당한다. "
   ]
  },
  {
   "cell_type": "markdown",
   "metadata": {},
   "source": [
    "## 함수 유형"
   ]
  },
  {
   "cell_type": "markdown",
   "metadata": {},
   "source": [
    "특정 유형의 값들과 특정 유형의 값을 서로 연결시켜주는 기능을 함수라 부른다. \n",
    "유형 `T1`의 값과 유형 `T2`의 값을 연결시켜주는 함수들의 유형을 `T1 -> T2`로 표기한다. \n",
    "\n",
    "만약 `f :: T1 -> T2`이면, \n",
    "`f`를 `T1` 유형의 값에 **적용**하여 생성된 `T2` 유형의 값을 `f t`로 표기한다."
   ]
  },
  {
   "cell_type": "markdown",
   "metadata": {},
   "source": [
    "### 유형 적용 규칙"
   ]
  },
  {
   "cell_type": "markdown",
   "metadata": {},
   "source": [
    "함수호출을 이론적으로 뒷받침하는 유형 적용 규칙은 다음과 같다. \n",
    "\n",
    "```haskell\n",
    " f :: T1 -> T2     t :: T1 \n",
    "--------------------------- (App)\n",
    "         f t :: T2\n",
    "```\n",
    "\n",
    "즉, 규칙 `(App)`가 묘사하는 함수 적용 방법은 다음과 같다.\n",
    "\n",
    "* `f` 함수의 유형은 `T1 -> T2`이다.\n",
    "* `t` 의 유형은 `T1`이다.\n",
    "* 그러면 `f t`의 유형은 `T2`이다."
   ]
  },
  {
   "cell_type": "markdown",
   "metadata": {},
   "source": [
    "#### 주의사항\n",
    "\n",
    "* 소개된 `(App)` 규칙은 하스켈에서 사용하는 **사실상 유일한** 유형 적용 규칙이다. \n",
    "* 나중에 배우는 **다형 유형**polymorphic type과 **클래스**class를 다룰 수 있으려면\n",
    "    `(App)` 규칙을 일반화해야 하지만 작동 방식은 기본적으로 동일하다. "
   ]
  },
  {
   "cell_type": "markdown",
   "metadata": {},
   "source": [
    "### 유형의 우결합성"
   ]
  },
  {
   "cell_type": "markdown",
   "metadata": {},
   "source": [
    "앞서 설명한 함수 유형 `T1 -> T2`는 충분히 일반화된 형태이다.\n",
    "하스켈에서 사용될 수 있는 어떤 함수의 유형도 위 형태로 표기된다. \n",
    "\n",
    "**주의:** 다형 유형이나 클래스가 사용되는 함수라면 유형이 좀 더 일반화되기는 하지만 \n",
    "형태는 기본적으로 동일하다. "
   ]
  },
  {
   "cell_type": "markdown",
   "metadata": {},
   "source": [
    "예를 들어, 정수 두 개의 합을 계산하는 함수 `add`의 유형은 `Integer -> Integer -> Integer`이다. "
   ]
  },
  {
   "cell_type": "code",
   "execution_count": null,
   "metadata": {},
   "outputs": [],
   "source": [
    "add :: Integer -> Integer -> Integer\n",
    "add x y = x + y"
   ]
  },
  {
   "cell_type": "markdown",
   "metadata": {},
   "source": [
    "하지만 다음이 성립한다. \n",
    "\n",
    "```haskell\n",
    "Integer -> Integer -> Integer = Integer -> (Integer -> Integer)\n",
    "```\n",
    "\n",
    "즉, 함수 유형 생성자 역할을 하는 `->` 기호가 **우결합성**right associativity을 갖는다.\n",
    "\n",
    "따라서 `T1 = Integer`과 `T2 = Integer -> Integer`라 하면 다음이 성립한다.\n",
    "\n",
    "```haskell\n",
    "T1 -> T2 = Integer -> Integer -> Integer\n",
    "```\n",
    "\n",
    "우결합성의 일반적인 형태는 다음과 같다. \n",
    "\n",
    "```haskell\n",
    "T1 -> T2 -> T3 = T1 -> (T2 -> T3)\n",
    "T1 -> T2 -> T3 -> T4 = T1 -> (T2 -> (T3 -> T4))\n",
    "T1 -> T2 -> T3 -> T4 -> T5 = T1 -> (T2 -> (T3 -> (T4 -> T5)))\n",
    "...\n",
    "```"
   ]
  },
  {
   "cell_type": "markdown",
   "metadata": {},
   "source": [
    "#### 주의사항\n",
    "\n",
    "함수 유형을 정의할 때 결합성을 지정하기 위해 소괄호를 사용할 수 있다.\n",
    "경우에 따라 전혀 다른 역할의 유형을 선언할 수 있음에 주의해야 한다. \n",
    "\n",
    "예를 들어, `(Integer -> Integer) -> Integer` 유형의 다음 함수는 \n",
    "`Intege -> Integer` 유형의 함수 하나와 함께 적용되는 함수이다. "
   ]
  },
  {
   "cell_type": "code",
   "execution_count": null,
   "metadata": {},
   "outputs": [],
   "source": [
    "app0 :: (Integer -> Integer) -> Integer\n",
    "app0 f = f 0"
   ]
  },
  {
   "cell_type": "markdown",
   "metadata": {},
   "source": [
    "`app0` 함수는 `Integer -> Integer` 유형의 함수 `f`를 인자와 함께 적용하면\n",
    "`f 0`를 계산한다. "
   ]
  },
  {
   "cell_type": "markdown",
   "metadata": {},
   "source": [
    "### 함수의 부분 적용과 좌결합성"
   ]
  },
  {
   "cell_type": "markdown",
   "metadata": {},
   "source": [
    "`add` 함수의 유형을 괄호를 사용하여 다시 정의하면 다음과 같다. "
   ]
  },
  {
   "cell_type": "code",
   "execution_count": null,
   "metadata": {},
   "outputs": [],
   "source": [
    "add :: Integer -> (Integer -> Integer)\n",
    "add x y = x + y"
   ]
  },
  {
   "cell_type": "markdown",
   "metadata": {},
   "source": [
    "`add` 함수는 정수 하나와 함께 적용되면 `Integer -> Integer` 유형의 값,\n",
    "즉, 하나의 함수를 생성해야 한다.\n",
    "\n",
    "예를 들어, `add 3`에 의해 생성된 함수를 `add3`라 한 후에 유형을 확인하면 다음과 같다. "
   ]
  },
  {
   "cell_type": "code",
   "execution_count": null,
   "metadata": {},
   "outputs": [],
   "source": [
    "add3 = add 3\n",
    ":t add3"
   ]
  },
  {
   "cell_type": "markdown",
   "metadata": {},
   "source": [
    "그리고 `add3`를 정수 `n`과 함께 적용하면 `3 + n`을 계산한다. "
   ]
  },
  {
   "cell_type": "code",
   "execution_count": null,
   "metadata": {},
   "outputs": [],
   "source": [
    "add3 5"
   ]
  },
  {
   "cell_type": "code",
   "execution_count": null,
   "metadata": {},
   "outputs": [],
   "source": [
    "add3 20"
   ]
  },
  {
   "cell_type": "markdown",
   "metadata": {},
   "source": [
    "물론 처음부터 `add` 함수를 두 개의 정수와 함께 호출하면 두 정수의 합을 계산한다."
   ]
  },
  {
   "cell_type": "code",
   "execution_count": null,
   "metadata": {},
   "outputs": [],
   "source": [
    "add 3 5"
   ]
  },
  {
   "cell_type": "code",
   "execution_count": null,
   "metadata": {},
   "outputs": [],
   "source": [
    "add 3 20"
   ]
  },
  {
   "cell_type": "markdown",
   "metadata": {},
   "source": [
    "이렇게 여러 개의 인자를 사용하는 함수들을 특정 인자 몇 개에만\n",
    "부분적으로 적용할 수 있다.\n",
    "\n",
    "앞서 보았듯이 다음 결과가 성립한다. \n",
    "\n",
    "```haskell\n",
    "add3 5 = (add 3) 5 = add 3 5\n",
    "```"
   ]
  },
  {
   "cell_type": "markdown",
   "metadata": {},
   "source": [
    "이렇게 함수의 **부분 적용**partial application이 허용되는 이유는\n",
    "앞서 설명한 대로 유형의 우결합성에 근거한다. \n",
    "또한 함수의 부분 적용은 `add3`의 경우에서 보았듯이 **좌결합성**left associativity을 갖는다.\n",
    "\n",
    "`f`가 함수 유형을 갖는다고 하자. \n",
    "그러면 다음이 성립한다. \n",
    "\n",
    "* `f :: T1 -> T2 -> T3` 인 경우\n",
    "\n",
    "    ```haskell\n",
    "    f t1 t2 = (f t1) t2\n",
    "    ```\n",
    "\n",
    "* `f :: T1 -> T2 -> T3 -> T4` 인 경우\n",
    "\n",
    "    ```haskell\n",
    "    f t1 t2 t3 = ((f t1) t2) t3\n",
    "    ```\n",
    "\n",
    "* `f :: T1 -> T2 -> T3 -> T4 -> T5` 인 경우\n",
    "\n",
    "    ```haskell\n",
    "    f t1 t2 t3 t4 = (((f t1) t2) t3) t4\n",
    "    ```\n",
    "\n",
    "* ..."
   ]
  },
  {
   "cell_type": "markdown",
   "metadata": {},
   "source": [
    "### 부분 함수"
   ]
  },
  {
   "cell_type": "markdown",
   "metadata": {},
   "source": [
    "하스켈에서는 부분함수partial function도 허용된다. \n",
    "예를 들어, 리스트의 첫째 항목을 계산하는 `head`, \n",
    "첫째 항목을 제외한 나머지 항목들의 리스트를 계산하는 `tail` 등은 빈 리스트에 대애서는 정의되어 있지 않으며,\n",
    "빈 리스트와 함께 적용할 경우 빈 리스트라고 경고문이 뜬다. "
   ]
  },
  {
   "cell_type": "code",
   "execution_count": null,
   "metadata": {},
   "outputs": [],
   "source": [
    "head []"
   ]
  },
  {
   "cell_type": "code",
   "execution_count": null,
   "metadata": {},
   "outputs": [],
   "source": [
    "tail []"
   ]
  },
  {
   "cell_type": "markdown",
   "metadata": {},
   "source": [
    "### 함수의 커리화/언커리화"
   ]
  },
  {
   "cell_type": "markdown",
   "metadata": {},
   "source": [
    "`add` 함수를 두 개의 인자 대신 튜플로 하나를 사용하도록 수정해보자. "
   ]
  },
  {
   "cell_type": "code",
   "execution_count": null,
   "metadata": {},
   "outputs": [],
   "source": [
    "addTuple :: (Integer, Integer) -> Integer\n",
    "addTuple (n, m) = n + m"
   ]
  },
  {
   "cell_type": "markdown",
   "metadata": {},
   "source": [
    "그러면 `add`와 `addTuple` 사실상 동일한 기능을 수행한다. \n",
    "즉, 임의의 정수 `n, m`에 대해 다음이 성립한다. \n",
    "\n",
    "```haskell\n",
    "add n m = addTuple (n, m)\n",
    "```"
   ]
  },
  {
   "cell_type": "markdown",
   "metadata": {},
   "source": [
    "이와같이 튜플 유형의 인자를 여러 개 값들의 연속적인 적용으로 다루는 함수로 항상 바꿀 수 있으며,\n",
    "이런 과정을 논리학자 Haskell Curry(하스켈 커리)의 이름을 따서 **커리화**,\n",
    "역과정은 **언커리화**라고 부른다. \n",
    "예를 들어, `add`는 `addTuple`을 커리화한 함수이며, \n",
    "역으로 `addTuple`은 `add`를 역커리화한 함수이다. \n",
    "\n",
    "커리화/언커리화의 일반적인 형태는 다음과 같다. \n",
    "단, `fCu`는 커리화된 함수, `fUn`눈 언커리화된 함수를 가리킨다.\n",
    "\n",
    "* `fUn :: (T1, T2) -> T3` 인 경우\n",
    "    ```haskell\n",
    "    fCu :: T1 -> T2 -> T3\n",
    "    fCu t1 t2 = fUn (t1, t2)\n",
    "    ```\n",
    "    \n",
    "* `fUn :: (T1, T2, T3) -> T4` 인 경우\n",
    "    ```haskell\n",
    "    fCu :: T1 -> T2 -> T3 -> T4\n",
    "    fCu t1 t2 t3 = fUn (t1, t2, t3)\n",
    "    ```\n",
    "    \n",
    "* `fUn :: (T1, T2, T3, T4) -> T5` 인 경우\n",
    "    ```haskell\n",
    "    fCu :: T1 -> T2 -> T3 -> T4 -> T5\n",
    "    fCu t1 t2 t3 t4 = fUn (t1, t2, t3, t4)\n",
    "    ```\n",
    "\n",
    "* ..."
   ]
  },
  {
   "cell_type": "markdown",
   "metadata": {},
   "source": [
    "## 다형 유형"
   ]
  },
  {
   "cell_type": "markdown",
   "metadata": {},
   "source": [
    "리스트 저체는 길이에 대한 정보를 포함하지 않는다. \n",
    "따라서 리스트의 길이를 재는 도구가 따로 있으며 `length`라고 불린다."
   ]
  },
  {
   "cell_type": "code",
   "execution_count": null,
   "metadata": {},
   "outputs": [],
   "source": [
    "length ['a', 'b', 'c']"
   ]
  },
  {
   "cell_type": "code",
   "execution_count": null,
   "metadata": {},
   "outputs": [],
   "source": [
    "length [1..10]"
   ]
  },
  {
   "cell_type": "code",
   "execution_count": null,
   "metadata": {},
   "outputs": [],
   "source": [
    "length [\"hello\", \"world!\"]"
   ]
  },
  {
   "cell_type": "markdown",
   "metadata": {},
   "source": [
    "### `length` 함수의 유형"
   ]
  },
  {
   "cell_type": "markdown",
   "metadata": {},
   "source": [
    "`length` 함수는 임의의 리스트의 길이를 계산한다.\n",
    "하지만 리스트는 항목들의 유형에 따라 다른 유형을 갖는다.\n",
    "예를 들어,\n",
    "\n",
    "```haskell\n",
    "length ['a', 'b', 'c']\n",
    "```\n",
    "\n",
    "와 \n",
    "\n",
    "```haskell\n",
    "length [1..10]\n",
    "```\n",
    "\n",
    "에서 사용되는 `length` 함수 인자의 유형이 다르다.\n",
    "`lengt`는 이것을 어떻게 처리할까?"
   ]
  },
  {
   "cell_type": "markdown",
   "metadata": {},
   "source": [
    "`length` 함수는 **임의의 유형의 값들로 구성된 리스트**를 인자의 유형으로 사용해야 한다.\n",
    "따라서 '임의의 유형의 값들로 구성된 리스트'들의 유형이 필요하며,\n",
    "하스켈에서 제공하는 그런 유형은 \n",
    "\n",
    "```haskell\n",
    "[a] \n",
    "```\n",
    "\n",
    "이다. 여기서 `a`는 임의의 유형을 가리키는 **유형 변수**type variable이다.\n",
    "즉, 유형 변수는 임의의 유형을 가리키는 변수이다. \n",
    "\n",
    "**주의:** 유형 변수로 사용된 변수는 함수 이름으로 사용될 수 없다. \n",
    "\n",
    "이제 `[a]`를 이용하면 `length`의 유형을 다음과 같다고 말해도 된다. \n",
    "\n",
    "```haskell\n",
    "length :: forall a. [a] -> Int\n",
    "```\n",
    "\n",
    "`f :: forall a. [a] -> Int`의 의미는 다음과 같다.\n",
    "\n",
    "* 임의의 유형 `a`에 대해, `t`가 `a` 유형의 원소들로 이루어진 리스트이면, `f t`는 정수를 계산한다. \n",
    "\n",
    "따라서, `length`는 임의의 리스트에 대해 정수를 하나 계산하는데 그 정수는 리스트의 길이인 것이다. "
   ]
  },
  {
   "cell_type": "markdown",
   "metadata": {},
   "source": [
    "### 주의사항"
   ]
  },
  {
   "cell_type": "markdown",
   "metadata": {},
   "source": [
    "애석하게도 `length` 함수의 유형은 좀 더 복잡하다. "
   ]
  },
  {
   "cell_type": "code",
   "execution_count": null,
   "metadata": {},
   "outputs": [],
   "source": [
    ":t length"
   ]
  },
  {
   "cell_type": "markdown",
   "metadata": {},
   "source": [
    "하지만 여기서는 일단 `length :: [a] -> a` 정도만 기억하고 넘어가도 된다.\n",
    "`length` 함수의 진짜 유형을 이해하려면 먼저 클래스를 이해해야 하는데 이후에 다룰 것이다. "
   ]
  },
  {
   "cell_type": "markdown",
   "metadata": {},
   "source": [
    "### `head` 함수의 유형"
   ]
  },
  {
   "cell_type": "markdown",
   "metadata": {},
   "source": [
    "빈 리스트가 아닌 리스트의 첫재 항목을 계산하는 함수 `head` 함수도 임의의 유형의 리스트에 대해 작동한다."
   ]
  },
  {
   "cell_type": "code",
   "execution_count": 1,
   "metadata": {},
   "outputs": [
    {
     "data": {
      "text/plain": [
       "'a'"
      ]
     },
     "metadata": {},
     "output_type": "display_data"
    }
   ],
   "source": [
    "head ['a', 'b', 'c']"
   ]
  },
  {
   "cell_type": "code",
   "execution_count": 2,
   "metadata": {},
   "outputs": [
    {
     "data": {
      "text/plain": [
       "1"
      ]
     },
     "metadata": {},
     "output_type": "display_data"
    }
   ],
   "source": [
    "head [1..10]"
   ]
  },
  {
   "cell_type": "markdown",
   "metadata": {},
   "source": [
    "`head` 역시 다형 유형을 사용하며 실제 유형은 다음과 같다."
   ]
  },
  {
   "cell_type": "code",
   "execution_count": 3,
   "metadata": {},
   "outputs": [
    {
     "data": {
      "text/html": [
       "<style>/* Styles used for the Hoogle display in the pager */\n",
       ".hoogle-doc {\n",
       "display: block;\n",
       "padding-bottom: 1.3em;\n",
       "padding-left: 0.4em;\n",
       "}\n",
       ".hoogle-code {\n",
       "display: block;\n",
       "font-family: monospace;\n",
       "white-space: pre;\n",
       "}\n",
       ".hoogle-text {\n",
       "display: block;\n",
       "}\n",
       ".hoogle-name {\n",
       "color: green;\n",
       "font-weight: bold;\n",
       "}\n",
       ".hoogle-head {\n",
       "font-weight: bold;\n",
       "}\n",
       ".hoogle-sub {\n",
       "display: block;\n",
       "margin-left: 0.4em;\n",
       "}\n",
       ".hoogle-package {\n",
       "font-weight: bold;\n",
       "font-style: italic;\n",
       "}\n",
       ".hoogle-module {\n",
       "font-weight: bold;\n",
       "}\n",
       ".hoogle-class {\n",
       "font-weight: bold;\n",
       "}\n",
       ".get-type {\n",
       "color: green;\n",
       "font-weight: bold;\n",
       "font-family: monospace;\n",
       "display: block;\n",
       "white-space: pre-wrap;\n",
       "}\n",
       ".show-type {\n",
       "color: green;\n",
       "font-weight: bold;\n",
       "font-family: monospace;\n",
       "margin-left: 1em;\n",
       "}\n",
       ".mono {\n",
       "font-family: monospace;\n",
       "display: block;\n",
       "}\n",
       ".err-msg {\n",
       "color: red;\n",
       "font-style: italic;\n",
       "font-family: monospace;\n",
       "white-space: pre;\n",
       "display: block;\n",
       "}\n",
       "#unshowable {\n",
       "color: red;\n",
       "font-weight: bold;\n",
       "}\n",
       ".err-msg.in.collapse {\n",
       "padding-top: 0.7em;\n",
       "}\n",
       ".highlight-code {\n",
       "white-space: pre;\n",
       "font-family: monospace;\n",
       "}\n",
       ".suggestion-warning { \n",
       "font-weight: bold;\n",
       "color: rgb(200, 130, 0);\n",
       "}\n",
       ".suggestion-error { \n",
       "font-weight: bold;\n",
       "color: red;\n",
       "}\n",
       ".suggestion-name {\n",
       "font-weight: bold;\n",
       "}\n",
       "</style><span class='get-type'>head :: forall a. [a] -> a</span>"
      ],
      "text/plain": [
       "head :: forall a. [a] -> a"
      ]
     },
     "metadata": {},
     "output_type": "display_data"
    }
   ],
   "source": [
    ":t head"
   ]
  },
  {
   "cell_type": "markdown",
   "metadata": {},
   "source": [
    "`f :: forall a. [a] -> a`의 의미는 다음과 같다.\n",
    "\n",
    "* 임의의 유형 `a`에 대해, `t`가 `a` 유형의 원소들로 이루어진 리스트이면, `f t`는 정수를 계산한다. \n",
    "\n",
    "따라서, `head`는 임의의 유형의 리스트에 대해 해당 유형의 값을 계산하는데 그 값은 리스트의 첫째 항목인 것이다."
   ]
  },
  {
   "cell_type": "markdown",
   "metadata": {},
   "source": [
    "### 주의사항\n",
    "\n",
    "`head`는 빈 리스트인 경우에는 오류가 발생한다. \n",
    "하지만 **빈 리스트가 아닌 경우에만 작동한다**를 하스켈 자체에서 표현할 수는 없으며, \n",
    "프로그램 작성자가 부분함수를 정의할 때 적절한 오류처리에 대해 항상 신경써야 한다."
   ]
  },
  {
   "cell_type": "markdown",
   "metadata": {},
   "source": [
    "## 내장 유형과 기본 유형"
   ]
  },
  {
   "cell_type": "markdown",
   "metadata": {},
   "source": [
    "하스켈에서 사용할 수 있는 유형을 일반적으로 두 부류로 나눈다. "
   ]
  },
  {
   "cell_type": "markdown",
   "metadata": {},
   "source": [
    "### 내장 유형과 사용자 정의 유형"
   ]
  },
  {
   "cell_type": "markdown",
   "metadata": {},
   "source": [
    "1. 내장 유형built-in types: 하스켈에서 기본적으로 제공하는 유형\n",
    "    * 정수 유형: `Int`와 `Integer`\n",
    "    * 실수 유형: `Float`와 `Double`\n",
    "    * 진리값 유형: `Bool`\n",
    "    * 문자 유형: `Char`\n",
    "    * 문자열 유형: `String`\n",
    "\n",
    "    * 리스트 유형: `[Char]`, `[(Integer, Float)]`\n",
    "    * 튜플 유형: `([Int], Double)`, `(Double, String, Int)`, ...\n",
    "    * 함수 유형: `Integer -> Bool`\n",
    "    * 다형 유형: `[a]`, `(a, b)`, ...\n",
    "\n",
    "\n",
    "2. 사용자 정의 유형: 사용자가 임의로 정의한 유형\n",
    "\n",
    "    * `data` 키워드로 정의된 유형(재귀적 유형 포함)"
   ]
  },
  {
   "cell_type": "markdown",
   "metadata": {},
   "source": [
    "### 기본 유형과 새 유형 정의"
   ]
  },
  {
   "cell_type": "markdown",
   "metadata": {},
   "source": [
    "하지만 여기서는 기본 유형과 새롭게 정의될 수 있는 유형으로 구분한다. \n",
    "\n",
    "1. 기본 유형: 말 그대로 기본으로 주어진 유형\n",
    "\n",
    "    * 정수 유형: `Int`와 `Integer`\n",
    "    * 실수 유형: `Float`와 `Double`\n",
    "    * 진리값 유형: `Bool`\n",
    "    * 문자 유형: `Char`\n",
    "    * 문자열 유형: `String`\n",
    "\n",
    "\n",
    "2. 새롭게 정의될 수 있는 유형: 사용자가 임의로 정의한 유형\n",
    "\n",
    "    * 리스트 유형: `[Char]`, `[(Integer, Float)]`\n",
    "    * 튜플 유형: `([Int], Double)`, `(Double, String, Int)`, ...\n",
    "    * 함수 유형: `Integer -> Bool`\n",
    "    * 다형 유형: `[a]`, `(a, b)`, `a -> b`, ...\n",
    "    * 사용자 정의 유형: `data` 키워드로 정의된 유형(재귀적 유형 포함)"
   ]
  },
  {
   "cell_type": "markdown",
   "metadata": {},
   "source": [
    "### 주의사항"
   ]
  },
  {
   "cell_type": "markdown",
   "metadata": {},
   "source": [
    "엄밀히 따지면 다음 세 가지 유형 생성 방식만 있으면 기본 유형과, 리스트, 튜플 유형을 모두 정의할 수 있다. \n",
    "하지만 이에 대한 자세한 설명은 이 강의의 범위를 벗어난다. "
   ]
  },
  {
   "cell_type": "markdown",
   "metadata": {},
   "source": [
    "* 함수 유형: `Integer -> Bool`\n",
    "* 다형 유형: `[a]`, `(a, b)`, `a -> b`, ...\n",
    "* 사용자 정의 유형: `data` 키워드로 정의된 유형(재귀적 유형 포함)"
   ]
  }
 ],
 "metadata": {
  "kernelspec": {
   "display_name": "Haskell",
   "language": "haskell",
   "name": "haskell"
  },
  "language_info": {
   "codemirror_mode": "ihaskell",
   "file_extension": ".hs",
   "name": "haskell",
   "pygments_lexer": "Haskell",
   "version": "8.6.5"
  }
 },
 "nbformat": 4,
 "nbformat_minor": 4
}
