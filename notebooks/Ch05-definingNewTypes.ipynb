{
 "cells": [
  {
   "cell_type": "markdown",
   "metadata": {},
   "source": [
    "# 새 유형 정의하기"
   ]
  },
  {
   "cell_type": "markdown",
   "metadata": {},
   "source": [
    "기본 유형과 이미 선언된 유형을 이용하여 새 유형을 정의할 수 있다.\n",
    "새롭게 정의될 수 있는 유형들을 다음과 같이 구분된다.\n",
    "\n",
    "* 리스트 유형 \n",
    "* 튜플 유형\n",
    "* 함수 유형\n",
    "* 다형 유형\n",
    "* 사용자 정의 유형"
   ]
  },
  {
   "cell_type": "markdown",
   "metadata": {},
   "source": [
    "## 리스트 유형"
   ]
  },
  {
   "cell_type": "markdown",
   "metadata": {},
   "source": [
    "리스트는 동일한 유형의 값을 갖는 유한개의 값들을 하나로 묶어 들고 다니는 값이며, \n",
    "아래 형태를 갖는다. \n",
    "\n",
    "```haskell\n",
    "[t1, t2, ..., tn]\n",
    "```\n",
    "\n",
    "단, `n`은 임의의 자연수이고, `t1`, `t2`, ..., `tn` 모두 동일한 유형을 가져야 한다. \n",
    "\n",
    "`T`가 임의의 유형이고, `t1`, ..., `tn` 모두 `T` 유형을 갖는다면\n",
    "다음이 성립한다. \n",
    "\n",
    "```haskell\n",
    "[t1, t2, ..., tn] :: [T]\n",
    "```"
   ]
  },
  {
   "cell_type": "markdown",
   "metadata": {},
   "source": [
    "예를 들어 다음이 성립한다. \n",
    "\n",
    "```haskell\n",
    "['a', 'b', 'c'] :: [Char]\n",
    "[] :: [Char]\n",
    "[] :: [[Char]]\n",
    "[\"abc\", \"bc\", \"adegh\", \"zyxabc\"] :: [String]\n",
    "[1..10] :: [Integer]\n",
    "[[1, 2], [3, 4], [5, 6], [7, 8], [9, 10]] :: [[Integer]]\n",
    "[[[1, 2], [3, 4]], [[5, 6], [7, 8], [9, 10]]] :: [[[Integer]]]\n",
    "```\n",
    "\n",
    "리스트에 포함된 항목은 모두 동일한 유형을 가지며, 유형에 대한 제한은 없다. \n",
    "즉, 임의의 유형에 대한 리스트를 생성할 수 있다. \n",
    "\n",
    "길이가 0인 리스트, 즉 어떤 항목도 포함하지 않는 리스트를 **빈 리스트**라 부르며\n",
    "`[]`로 표기한다. \n",
    "`\"\"`와 `\" \"`의 경우처럼 `[]`와 `[[]]`가 다름에 주의한다. \n",
    "또한 빈 리스트의 유형은 명확하지 않을 수 있다.\n",
    "따라서 아래와 같이 어떤 유형의 빈 리스트인지 지정하기도 한다. "
   ]
  },
  {
   "cell_type": "code",
   "execution_count": 1,
   "metadata": {},
   "outputs": [
    {
     "data": {
      "text/html": [
       "<style>/* Styles used for the Hoogle display in the pager */\n",
       ".hoogle-doc {\n",
       "display: block;\n",
       "padding-bottom: 1.3em;\n",
       "padding-left: 0.4em;\n",
       "}\n",
       ".hoogle-code {\n",
       "display: block;\n",
       "font-family: monospace;\n",
       "white-space: pre;\n",
       "}\n",
       ".hoogle-text {\n",
       "display: block;\n",
       "}\n",
       ".hoogle-name {\n",
       "color: green;\n",
       "font-weight: bold;\n",
       "}\n",
       ".hoogle-head {\n",
       "font-weight: bold;\n",
       "}\n",
       ".hoogle-sub {\n",
       "display: block;\n",
       "margin-left: 0.4em;\n",
       "}\n",
       ".hoogle-package {\n",
       "font-weight: bold;\n",
       "font-style: italic;\n",
       "}\n",
       ".hoogle-module {\n",
       "font-weight: bold;\n",
       "}\n",
       ".hoogle-class {\n",
       "font-weight: bold;\n",
       "}\n",
       ".get-type {\n",
       "color: green;\n",
       "font-weight: bold;\n",
       "font-family: monospace;\n",
       "display: block;\n",
       "white-space: pre-wrap;\n",
       "}\n",
       ".show-type {\n",
       "color: green;\n",
       "font-weight: bold;\n",
       "font-family: monospace;\n",
       "margin-left: 1em;\n",
       "}\n",
       ".mono {\n",
       "font-family: monospace;\n",
       "display: block;\n",
       "}\n",
       ".err-msg {\n",
       "color: red;\n",
       "font-style: italic;\n",
       "font-family: monospace;\n",
       "white-space: pre;\n",
       "display: block;\n",
       "}\n",
       "#unshowable {\n",
       "color: red;\n",
       "font-weight: bold;\n",
       "}\n",
       ".err-msg.in.collapse {\n",
       "padding-top: 0.7em;\n",
       "}\n",
       ".highlight-code {\n",
       "white-space: pre;\n",
       "font-family: monospace;\n",
       "}\n",
       ".suggestion-warning { \n",
       "font-weight: bold;\n",
       "color: rgb(200, 130, 0);\n",
       "}\n",
       ".suggestion-error { \n",
       "font-weight: bold;\n",
       "color: red;\n",
       "}\n",
       ".suggestion-name {\n",
       "font-weight: bold;\n",
       "}\n",
       "</style><span class='get-type'>([] :: [Float]) :: [Float]</span>"
      ],
      "text/plain": [
       "([] :: [Float]) :: [Float]"
      ]
     },
     "metadata": {},
     "output_type": "display_data"
    }
   ],
   "source": [
    ":t ([] :: [Float])"
   ]
  },
  {
   "cell_type": "markdown",
   "metadata": {},
   "source": [
    "빈 리스트를 비교할 때 자료형이 동일하면 `True` 를 계산한다."
   ]
  },
  {
   "cell_type": "code",
   "execution_count": 2,
   "metadata": {},
   "outputs": [
    {
     "data": {
      "text/plain": [
       "True"
      ]
     },
     "metadata": {},
     "output_type": "display_data"
    }
   ],
   "source": [
    "([] :: [Int]) == ([] :: [Int])"
   ]
  },
  {
   "cell_type": "markdown",
   "metadata": {},
   "source": [
    "하지만 자료형이 다르면 서로 자료형이 다르다면서 오류를 발생시킨다. "
   ]
  },
  {
   "cell_type": "code",
   "execution_count": 3,
   "metadata": {},
   "outputs": [
    {
     "ename": "",
     "evalue": "",
     "output_type": "error",
     "traceback": [
      "<interactive>:1:19: error:\n    • Couldn't match type ‘Integer’ with ‘Int’\n      Expected type: [Int]\n        Actual type: [Integer]\n    • In the second argument of ‘(==)’, namely ‘([] :: [Integer])’\n      In the expression: ([] :: [Int]) == ([] :: [Integer])\n      In an equation for ‘it’: it = ([] :: [Int]) == ([] :: [Integer])"
     ]
    }
   ],
   "source": [
    "([] :: [Int]) == ([] :: [Integer])"
   ]
  },
  {
   "cell_type": "markdown",
   "metadata": {},
   "source": [
    "### 주의사항\n",
    "\n",
    "1. 문자열 유형 `String`은 문자들의 리스트 유형인 `[Char]`를 달리 부르는 표현이다.\n",
    "따라서 빈문자열은 문자들의 빈 리스트에 해당한다. "
   ]
  },
  {
   "cell_type": "code",
   "execution_count": 2,
   "metadata": {},
   "outputs": [
    {
     "data": {
      "text/plain": [
       "True"
      ]
     },
     "metadata": {},
     "output_type": "display_data"
    }
   ],
   "source": [
    "([] :: String) == \"\""
   ]
  },
  {
   "cell_type": "markdown",
   "metadata": {},
   "source": [
    "2. 리스트의 길이에는 제한이 없다. 따라서 무한 리스트도 정의되어 활요될 수 있다. \n",
    "    예를 들어, `[0..]`는 모든 자연수를 담고 있는 정수들의 리스트이다. \n",
    "    이것이 가능한 이유는 앞서 설명한 소극적 계산법과 관련되어 있으며, 자세한 내용은 나중에 다룰 것이다.\n",
    "    \n",
    "    여기서는 `[0..]`이 정말로 모든 자연수들의 리스트임을 보여주는 예제만 몇 개 보여준다. \n",
    "    아래 예제들은 리스트 관련 함수들 중에서 유한 시간내에 계산을 마치는 함수만 보여준다. \n",
    "    `length` 함수의 경우처럼 계산이 멈추지 않을 수도 있음에 주의해야 한다. \n",
    "    즉, 아래와 같이 실행하면 ghci가 멈추지 않으며, 강제로 종료시켜야 한다. \n",
    "    \n",
    "    ```haskell\n",
    "    length [0..]\n",
    "    ```\n",
    "    \n",
    "    위 설명에서 사용된 `[0..]` 보았듯이 리스트 자체와 리스트의 유형은 리스트의 길이에 대한 정보를 전혀 갖고 있지 않다.\n",
    "    또한 `[True, False]`와 `[False, False, True]`의 경우처럼 길이가 다른 두 리스트의 유형은 \n",
    "    `[Bool]`로 동일하다. "
   ]
  },
  {
   "cell_type": "code",
   "execution_count": 3,
   "metadata": {},
   "outputs": [
    {
     "data": {
      "text/plain": [
       "3"
      ]
     },
     "metadata": {},
     "output_type": "display_data"
    }
   ],
   "source": [
    "[0..] !! 3"
   ]
  },
  {
   "cell_type": "code",
   "execution_count": 5,
   "metadata": {},
   "outputs": [
    {
     "data": {
      "text/plain": [
       "[0,1,2,3,4,5,6,7,8,9,10,11,12,13,14]"
      ]
     },
     "metadata": {},
     "output_type": "display_data"
    }
   ],
   "source": [
    "take 15 [0..]"
   ]
  },
  {
   "cell_type": "markdown",
   "metadata": {},
   "source": [
    "## 튜플 유형"
   ]
  },
  {
   "cell_type": "markdown",
   "metadata": {},
   "source": [
    "튜플은 유한개의 값들을 하나로 묶어 들고 다니는 값이며, \n",
    "아래 형태를 갖는다. \n",
    "\n",
    "```haskell\n",
    "(t1, t2, ..., tn)\n",
    "```\n",
    "\n",
    "단, `n`은 0이거나 2보다 큰 임의의 자연수이다. \n",
    "\n",
    "`T1`, `T2`, ..., `Tn`이 임의의 유형이고, `ti`가 유형 `Ti`를 갖는다면\n",
    "다음이 성립한다. \n",
    "\n",
    "```haskell\n",
    "(t1, t2, ..., tn) :: (T1, T2, ..., Tn)\n",
    "```\n",
    "\n",
    "길이가 0인 튜플을 **빈 튜플**empty tuple이라 부르며 `()`로 표기한다. \n",
    "\n",
    "**주의:** 길이가 1인 튜플은 허용되지 않는다. \n",
    "소괄호가 연산자 우선순위와 함수의 인자를 구분하는 데에 사용되기에 잘못하면 혼란을 야기할 수 있기 때문이다."
   ]
  },
  {
   "cell_type": "markdown",
   "metadata": {},
   "source": [
    "예를 들어 다음이 성립한다. \n",
    "\n",
    "```haskell\n",
    "('a', 'b') :: (Char, Char)\n",
    "('a', \"abc\", True) :: (Char, String, Bool)\n",
    "(('a', 'b'), True) :: ((Char, Char), Bool)\n",
    "(('a', 'b'), (\"abc\", True), False):: ((Char, Char), ([Char], Bool), Bool)\n",
    "```\n",
    "\n",
    "튜플에 포함된 항목들 각각 서로 다른 임의의 유형을 가지며, 유형에 대한 제한은 전혀 없다.\n",
    "즉, 임의의 조합으로 튜플을 생성할 수 있다. \n",
    "또한 길이에 따라 튜플의 유형도 함께 달라진다. \n",
    "\n",
    "빈 튜플을 제외한 나머지 튜플들의 길이는 2 이상이며,\n",
    "튜플의 길이는 튜플의 유형을 보면 바로 알 수 있다. \n",
    "즉, 튜플의 유형이 길이 정보를 함께 갖고 있으며, 모든 튜플의 길이는 유한하다. \n",
    "\n",
    "빈 튜플은 `unit`(유닛)이라 불리는 유형을 갖는 유일한 값이다.\n",
    "`unit` 유형은 빈 튜플과 동일한 방식인 `()`로 표기된다. "
   ]
  },
  {
   "cell_type": "code",
   "execution_count": 10,
   "metadata": {},
   "outputs": [
    {
     "data": {
      "text/html": [
       "<style>/* Styles used for the Hoogle display in the pager */\n",
       ".hoogle-doc {\n",
       "display: block;\n",
       "padding-bottom: 1.3em;\n",
       "padding-left: 0.4em;\n",
       "}\n",
       ".hoogle-code {\n",
       "display: block;\n",
       "font-family: monospace;\n",
       "white-space: pre;\n",
       "}\n",
       ".hoogle-text {\n",
       "display: block;\n",
       "}\n",
       ".hoogle-name {\n",
       "color: green;\n",
       "font-weight: bold;\n",
       "}\n",
       ".hoogle-head {\n",
       "font-weight: bold;\n",
       "}\n",
       ".hoogle-sub {\n",
       "display: block;\n",
       "margin-left: 0.4em;\n",
       "}\n",
       ".hoogle-package {\n",
       "font-weight: bold;\n",
       "font-style: italic;\n",
       "}\n",
       ".hoogle-module {\n",
       "font-weight: bold;\n",
       "}\n",
       ".hoogle-class {\n",
       "font-weight: bold;\n",
       "}\n",
       ".get-type {\n",
       "color: green;\n",
       "font-weight: bold;\n",
       "font-family: monospace;\n",
       "display: block;\n",
       "white-space: pre-wrap;\n",
       "}\n",
       ".show-type {\n",
       "color: green;\n",
       "font-weight: bold;\n",
       "font-family: monospace;\n",
       "margin-left: 1em;\n",
       "}\n",
       ".mono {\n",
       "font-family: monospace;\n",
       "display: block;\n",
       "}\n",
       ".err-msg {\n",
       "color: red;\n",
       "font-style: italic;\n",
       "font-family: monospace;\n",
       "white-space: pre;\n",
       "display: block;\n",
       "}\n",
       "#unshowable {\n",
       "color: red;\n",
       "font-weight: bold;\n",
       "}\n",
       ".err-msg.in.collapse {\n",
       "padding-top: 0.7em;\n",
       "}\n",
       ".highlight-code {\n",
       "white-space: pre;\n",
       "font-family: monospace;\n",
       "}\n",
       ".suggestion-warning { \n",
       "font-weight: bold;\n",
       "color: rgb(200, 130, 0);\n",
       "}\n",
       ".suggestion-error { \n",
       "font-weight: bold;\n",
       "color: red;\n",
       "}\n",
       ".suggestion-name {\n",
       "font-weight: bold;\n",
       "}\n",
       "</style><span class='get-type'>() :: ()</span>"
      ],
      "text/plain": [
       "() :: ()"
      ]
     },
     "metadata": {},
     "output_type": "display_data"
    }
   ],
   "source": [
    ":t ()"
   ]
  },
  {
   "cell_type": "markdown",
   "metadata": {},
   "source": [
    "### 주의사항\n",
    "\n",
    "1. 문자열 유형 `String`은 문자들의 리스트 유형인 `[Char]`를 달리 부르는 표현이다.\n",
    "따라서 빈문자열은 문자들의 빈 리스트에 해당한다. "
   ]
  },
  {
   "cell_type": "markdown",
   "metadata": {},
   "source": [
    "## 함수 유형"
   ]
  },
  {
   "cell_type": "markdown",
   "metadata": {},
   "source": [
    "특정 유형의 값들과 특정 유형의 값을 서로 연결시켜주는 기능을 함수라 부른다. \n",
    "유형 `T1`의 값과 유형 `T2`의 값을 연결시켜주는 함수들의 유형을 `T1 -> T2`로 표기한다. \n",
    "\n",
    "만약 `f :: T1 -> T2`이면, \n",
    "`f`를 `T1` 유형의 값에 **적용**하여 생성된 `T2` 유형의 값을 `f t`로 표기한다."
   ]
  },
  {
   "cell_type": "markdown",
   "metadata": {},
   "source": [
    "### 유형 적용 규칙"
   ]
  },
  {
   "cell_type": "markdown",
   "metadata": {},
   "source": [
    "함수호출을 이론적으로 뒷받침하는 유형 적용 규칙은 다음과 같다. \n",
    "\n",
    "```haskell\n",
    " f :: T1 -> T2     t :: T1 \n",
    "--------------------------- (App)\n",
    "         f t :: T2\n",
    "```\n",
    "\n",
    "즉, 규칙 `(App)`가 묘사하는 함수 적용 방법은 다음과 같다.\n",
    "\n",
    "* `f` 함수의 유형은 `T1 -> T2`이다.\n",
    "* `t` 의 유형은 `T1`이다.\n",
    "* 그러면 `f t`의 유형은 `T2`이다."
   ]
  },
  {
   "cell_type": "markdown",
   "metadata": {},
   "source": [
    "#### 주의사항\n",
    "\n",
    "* 소개된 `(App)` 규칙은 하스켈에서 사용하는 **사실상 유일한** 유형 적용 규칙이다. \n",
    "* 나중에 배우는 **다형 유형**polymorphic type과 **클래스**class를 다룰 수 있으려면\n",
    "    `(App)` 규칙을 일반화해야 하지만 작동 방식은 기본적으로 동일하다. "
   ]
  },
  {
   "cell_type": "markdown",
   "metadata": {},
   "source": [
    "### 유형의 우결합성"
   ]
  },
  {
   "cell_type": "markdown",
   "metadata": {},
   "source": [
    "앞서 설명한 함수 유형 `T1 -> T2`는 충분히 일반화된 형태이다.\n",
    "하스켈에서 사용될 수 있는 어떤 함수의 유형도 위 형태로 표기된다. \n",
    "\n",
    "**주의:** 다형 유형이나 클래스가 사용되는 함수라면 유형이 좀 더 일반화되기는 하지만 \n",
    "형태는 기본적으로 동일하다. "
   ]
  },
  {
   "cell_type": "markdown",
   "metadata": {},
   "source": [
    "예를 들어, 정수 두 개의 합을 계산하는 함수 `add`의 유형은 `Integer -> Integer -> Integer`이다. "
   ]
  },
  {
   "cell_type": "code",
   "execution_count": 15,
   "metadata": {},
   "outputs": [],
   "source": [
    "add :: Integer -> Integer -> Integer\n",
    "add x y = x + y"
   ]
  },
  {
   "cell_type": "markdown",
   "metadata": {},
   "source": [
    "하지만 어떻게 `Integer -> Integer -> Integer`를 `T1 -> T2` 형태로 표기할 것인가에 대해\n",
    "답해야 한다. \n",
    "해답은 함수 유형 생성자 역할을 하는 `->` 기호의 **우결합성**right associativity에 있다. \n",
    "즉, 다음이 성립한다. \n",
    "\n",
    "```haskell\n",
    "Integer -> Integer -> Integer = Integer -> (Integer -> Integer)\n",
    "```\n",
    "따라서 `T1 = Integer`과 `T2 = Integer -> Integer`를\n",
    "사용하면 된다. \n",
    "괄호는 유형의 결합성을 확실하게 보여주기 위해 사용된다.\n",
    "\n",
    "우결합성의 일반적인 형태는 다음과 같다. \n",
    "\n",
    "```haskell\n",
    "T1 -> T2 -> T3 -> T4 = T1 -> (T2 -> (T3 -> T4)\n",
    "...\n",
    "T1 -> T2 -> ... -> T(n-1)-> Tn = T1 -> (T2 -> (... -> (T(n-1) -> Tn)))\n",
    "```"
   ]
  },
  {
   "cell_type": "markdown",
   "metadata": {},
   "source": [
    "#### 주의사항\n",
    "\n",
    "`(Integer -> Integer) -> Integer`는 전혀 다른 의미의 유형이다.\n",
    "예를 들어, 다음 함수가 위 유형의 함수이다. "
   ]
  },
  {
   "cell_type": "code",
   "execution_count": 16,
   "metadata": {},
   "outputs": [],
   "source": [
    "app0 :: (Integer -> Integer) -> Integer\n",
    "app0 f = f 0"
   ]
  },
  {
   "cell_type": "markdown",
   "metadata": {},
   "source": [
    "`app0` 함수는 `Integer -> Integer` 유형의 함수 `f`를 인자와 함께 적용하면\n",
    "`f 0`를 계산한다. "
   ]
  },
  {
   "cell_type": "markdown",
   "metadata": {},
   "source": [
    "### 함수의 부분 적용과 좌결합성"
   ]
  },
  {
   "cell_type": "code",
   "execution_count": null,
   "metadata": {},
   "outputs": [],
   "source": []
  },
  {
   "cell_type": "code",
   "execution_count": null,
   "metadata": {},
   "outputs": [],
   "source": []
  },
  {
   "cell_type": "markdown",
   "metadata": {},
   "source": [
    "해답은 **부분 적용**partial application에 있다. "
   ]
  },
  {
   "cell_type": "markdown",
   "metadata": {},
   "source": [
    "다변수 함수, 즉 여러 개의 인자를 받는 함수의 유형도"
   ]
  },
  {
   "cell_type": "code",
   "execution_count": null,
   "metadata": {},
   "outputs": [],
   "source": []
  },
  {
   "cell_type": "code",
   "execution_count": null,
   "metadata": {},
   "outputs": [],
   "source": []
  },
  {
   "cell_type": "code",
   "execution_count": null,
   "metadata": {},
   "outputs": [],
   "source": []
  },
  {
   "cell_type": "code",
   "execution_count": null,
   "metadata": {},
   "outputs": [],
   "source": []
  },
  {
   "cell_type": "markdown",
   "metadata": {},
   "source": [
    "## 내장 유형과 기본 유형"
   ]
  },
  {
   "cell_type": "markdown",
   "metadata": {},
   "source": [
    "하스켈에서 사용할 수 있는 유형을 일반적으로 두 부류로 나눈다. "
   ]
  },
  {
   "cell_type": "markdown",
   "metadata": {},
   "source": [
    "### 내장 유형과 사용자 정의 유형"
   ]
  },
  {
   "cell_type": "markdown",
   "metadata": {},
   "source": [
    "1. 내장 유형built-in types: 하스켈에서 기본적으로 제공하는 유형\n",
    "    * 정수 유형: `Int`와 `Integer`\n",
    "    * 실수 유형: `Float`와 `Double`\n",
    "    * 진리값 유형: `Bool`\n",
    "    * 문자 유형: `Char`\n",
    "    * 문자열 유형: `String`\n",
    "\n",
    "    * 리스트 유형: `[Char]`, `[(Integer, Float)]`\n",
    "    * 튜플 유형: `([Int], Double)`, `(Double, String, Int)`, ...\n",
    "    * 함수 유형: `Integer -> Bool`\n",
    "    * 다형 유형: `[a]`, `(a, b)`, ...\n",
    "\n",
    "\n",
    "2. 사용자 정의 유형: 사용자가 임의로 정의한 유형\n",
    "\n",
    "    * `data` 키워드로 정의된 유형(재귀적 유형 포함)"
   ]
  },
  {
   "cell_type": "markdown",
   "metadata": {},
   "source": [
    "### 기본 유형과 새 유형 정의"
   ]
  },
  {
   "cell_type": "markdown",
   "metadata": {},
   "source": [
    "하지만 여기서는 기본 유형과 새롭게 정의될 수 있는 유형으로 구분한다. \n",
    "\n",
    "1. 기본 유형: 말 그대로 기본으로 주어진 유형\n",
    "\n",
    "    * 정수 유형: `Int`와 `Integer`\n",
    "    * 실수 유형: `Float`와 `Double`\n",
    "    * 진리값 유형: `Bool`\n",
    "    * 문자 유형: `Char`\n",
    "    * 문자열 유형: `String`\n",
    "\n",
    "\n",
    "2. 새롭게 정의될 수 있는 유형: 사용자가 임의로 정의한 유형\n",
    "\n",
    "    * 리스트 유형: `[Char]`, `[(Integer, Float)]`\n",
    "    * 튜플 유형: `([Int], Double)`, `(Double, String, Int)`, ...\n",
    "    * 함수 유형: `Integer -> Bool`\n",
    "    * 다형 유형: `[a]`, `(a, b)`, `a -> b`, ...\n",
    "    * 사용자 정의 유형: `data` 키워드로 정의된 유형(재귀적 유형 포함)"
   ]
  },
  {
   "cell_type": "markdown",
   "metadata": {},
   "source": [
    "### 주의사항"
   ]
  },
  {
   "cell_type": "markdown",
   "metadata": {},
   "source": [
    "엄밀히 따지면 다음 세 가지 유형 생성 방식만 있으면 기본 유형과, 리스트, 튜플 유형을 모두 정의할 수 있다. \n",
    "하지만 이에 대한 자세한 설명은 이 강의의 범위를 벗어난다. "
   ]
  },
  {
   "cell_type": "markdown",
   "metadata": {},
   "source": [
    "* 함수 유형: `Integer -> Bool`\n",
    "* 다형 유형: `[a]`, `(a, b)`, `a -> b`, ...\n",
    "* 사용자 정의 유형: `data` 키워드로 정의된 유형(재귀적 유형 포함)"
   ]
  }
 ],
 "metadata": {
  "kernelspec": {
   "display_name": "Haskell",
   "language": "haskell",
   "name": "haskell"
  },
  "language_info": {
   "codemirror_mode": "ihaskell",
   "file_extension": ".hs",
   "name": "haskell",
   "pygments_lexer": "Haskell",
   "version": "8.6.5"
  }
 },
 "nbformat": 4,
 "nbformat_minor": 4
}
