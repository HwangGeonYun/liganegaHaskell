{
 "cells": [
  {
   "cell_type": "markdown",
   "metadata": {},
   "source": [
    "# 다형성과 유형클래스"
   ]
  },
  {
   "cell_type": "markdown",
   "metadata": {},
   "source": [
    "## 매개변수 다형성"
   ]
  },
  {
   "cell_type": "markdown",
   "metadata": {},
   "source": [
    "다형유형의 정의를 **특정 형식의 유형을 임의의 유형을 이용해서 생성할 수 있도록 하는 기법**으로 이해할 수 있다. \n",
    "이전에 살펴보았던 리스트, 튜플, 함수 유형 모두 임의의 유형을 사용하여 동일한 형식의 새로운 유형을 생성한다.\n",
    "\n",
    "* 리스트 유형: `[Int]`, `[Float]`, `[String]`, `[Bool]`, 등등.\n",
    "\n",
    "* 튜플 유형: `(Int, String)`, `(Float, Bool)`, `(String, Char)`, 등등.\n",
    "\n",
    "* 함수 유형: `Int -> Float`, `(Int, Int) -> Int`, `[Bool] -> Int`, 등등.\n",
    "\n",
    "다형유형은 하스켈이 지원하는 다형성polymorphism의 핵심이며, \n",
    "앞서 설명한 이유로 해서 **매개변수 다형성**parametric polymorphism이라고도 불린다. \n",
    "\n",
    "`[a]`, `(a, b)`, `a -> b` 등의 경우처럼 유형 변수type variable를 \n",
    "임의의 유형을 인자로 받을 수 있는 일종의 매개변수로 간주한다는 의미에서 매개변수 다형성이라 부른다고 이해할 수 있다. "
   ]
  },
  {
   "cell_type": "markdown",
   "metadata": {},
   "source": [
    "### 다형 유형의 엄밀한 적용법"
   ]
  },
  {
   "cell_type": "markdown",
   "metadata": {},
   "source": [
    "`t :: [a]`, `t :: (a, b)`, `t :: a -> b`의 엄밀한 의미는 다음과 같다.\n",
    "\n",
    "* `t :: forall a. [a]`\n",
    "    * 임의의 유형 `A`에 대해 `t A :: [A]`가 성립한다. \n",
    "        즉, `t A`는 `A` 유형의 값들로 이루어진 리스트이다. \n",
    "    * 예를 들어, `t Int`는 정수들의 리스트이어야 한다. \n",
    "* `t :: forall a b. (a, b)`\n",
    "    * 임의의 유형 `A, B`에 대해 `t A B :: (A, B)`가 성립한다. \n",
    "        즉, `t A B`는 `A` 유형의 값과 `B` 유형의 값으로 이루어진 길이가 2인 튜플이다. \n",
    "    * 예를 들어, `t Int Int`는 두 개의 정수로 이루어진 순선쌍이어야 한다. \n",
    "* `t :: forall a b. a -> b`\n",
    "    * 임의의 유형 `A, B`에 대해 `t A B :: A -> B`가 성립한다. \n",
    "        즉, `t A B`는 `A` 유형에서 `B` 유형으로 가는 함수이다. \n",
    "    * 예를 들어, `t (Int,Int) Int`는 길이가 2인 정수들의 순선쌍에 적용하면 새로운 정수를 계산해야 한다. "
   ]
  },
  {
   "cell_type": "markdown",
   "metadata": {},
   "source": [
    "### 유형 추론"
   ]
  },
  {
   "cell_type": "markdown",
   "metadata": {},
   "source": [
    "다형유형의 함수를 사용할 때 앞서 설명한 대로 사용되는 특정 유형을 지정하는 일은 매우 귀찮은 일이다.\n",
    "하지만 일반적으로 그럴 필요가 없다. \n",
    "하스켈이 사용되는 값의 유형을 기본적으로 스스로 유추할 수 있기 때문이며, \n",
    "이를 **유형 추론**type inference이라 부른다. \n",
    "\n",
    "**주의:** 유형 추론이 경우에 따라 불가능 할 수 있다. \n",
    "예를 들어, 공 리스트 `[]`와 정수 `1, 2, 3` 등의 유형이 명확하지 않을 수 있다. \n",
    "공 리스트는 임의의 유형의 리스트일 수 있으며, `1, 2, 3` 등의 숫자는 `Int`, `Integer` 등이 될 수 있기 때문이다.\n",
    "하스켈은 유형에 매우 엄격하기 때문에 `Int`를 기대하는 함수에 `Integer`를 적용하면 오류가 발생한다. "
   ]
  },
  {
   "cell_type": "markdown",
   "metadata": {},
   "source": [
    "#### 예제\n",
    "\n",
    "리스트에 포함된 항목들의 순서를 바꾸는 `reverse` 함수를 살펴보자. \n",
    "`reverse`는 임의의 유형의 리스트에 대해 작동하며, 유형은 아래와 같다. "
   ]
  },
  {
   "cell_type": "code",
   "execution_count": 1,
   "metadata": {},
   "outputs": [
    {
     "data": {
      "text/html": [
       "<style>/* Styles used for the Hoogle display in the pager */\n",
       ".hoogle-doc {\n",
       "display: block;\n",
       "padding-bottom: 1.3em;\n",
       "padding-left: 0.4em;\n",
       "}\n",
       ".hoogle-code {\n",
       "display: block;\n",
       "font-family: monospace;\n",
       "white-space: pre;\n",
       "}\n",
       ".hoogle-text {\n",
       "display: block;\n",
       "}\n",
       ".hoogle-name {\n",
       "color: green;\n",
       "font-weight: bold;\n",
       "}\n",
       ".hoogle-head {\n",
       "font-weight: bold;\n",
       "}\n",
       ".hoogle-sub {\n",
       "display: block;\n",
       "margin-left: 0.4em;\n",
       "}\n",
       ".hoogle-package {\n",
       "font-weight: bold;\n",
       "font-style: italic;\n",
       "}\n",
       ".hoogle-module {\n",
       "font-weight: bold;\n",
       "}\n",
       ".hoogle-class {\n",
       "font-weight: bold;\n",
       "}\n",
       ".get-type {\n",
       "color: green;\n",
       "font-weight: bold;\n",
       "font-family: monospace;\n",
       "display: block;\n",
       "white-space: pre-wrap;\n",
       "}\n",
       ".show-type {\n",
       "color: green;\n",
       "font-weight: bold;\n",
       "font-family: monospace;\n",
       "margin-left: 1em;\n",
       "}\n",
       ".mono {\n",
       "font-family: monospace;\n",
       "display: block;\n",
       "}\n",
       ".err-msg {\n",
       "color: red;\n",
       "font-style: italic;\n",
       "font-family: monospace;\n",
       "white-space: pre;\n",
       "display: block;\n",
       "}\n",
       "#unshowable {\n",
       "color: red;\n",
       "font-weight: bold;\n",
       "}\n",
       ".err-msg.in.collapse {\n",
       "padding-top: 0.7em;\n",
       "}\n",
       ".highlight-code {\n",
       "white-space: pre;\n",
       "font-family: monospace;\n",
       "}\n",
       ".suggestion-warning { \n",
       "font-weight: bold;\n",
       "color: rgb(200, 130, 0);\n",
       "}\n",
       ".suggestion-error { \n",
       "font-weight: bold;\n",
       "color: red;\n",
       "}\n",
       ".suggestion-name {\n",
       "font-weight: bold;\n",
       "}\n",
       "</style><span class='get-type'>reverse :: forall a. [a] -> [a]</span>"
      ],
      "text/plain": [
       "reverse :: forall a. [a] -> [a]"
      ]
     },
     "metadata": {},
     "output_type": "display_data"
    }
   ],
   "source": [
    ":t reverse"
   ]
  },
  {
   "cell_type": "markdown",
   "metadata": {},
   "source": [
    "`reverse` 함수를 리스트 `[True, True, False, False]`와 함께 적용하면 아래와 같이 작동한다. "
   ]
  },
  {
   "cell_type": "code",
   "execution_count": 2,
   "metadata": {},
   "outputs": [
    {
     "data": {
      "text/plain": [
       "[False,False,True]"
      ]
     },
     "metadata": {},
     "output_type": "display_data"
    }
   ],
   "source": [
    "reverse [True, False, False]"
   ]
  },
  {
   "cell_type": "markdown",
   "metadata": {},
   "source": [
    "엄밀히 따지면 `[True, False, False]`의 유형 `[Bool]`에 사용된 `a`를 `reverse`가 알아야 한다.\n",
    "하지만 `[True, False, False]`를 보고서 `[a]`에 사용된 `a`가 `Bool`임을 추론할 수 있기에 \n",
    "굳이 `a`에 대한 정보를 입력하지 않아도 되는 것이다. \n",
    "\n",
    "**주의:** 경우에 따라 유형을 명시해야 하는 경우가 발생한다. 그럴 경우 아래와 같이 하면 된다."
   ]
  },
  {
   "cell_type": "code",
   "execution_count": 3,
   "metadata": {},
   "outputs": [
    {
     "data": {
      "text/plain": [
       "[False,False,True]"
      ]
     },
     "metadata": {},
     "output_type": "display_data"
    }
   ],
   "source": [
    "reverse [True, False, False] :: [Bool]"
   ]
  },
  {
   "cell_type": "markdown",
   "metadata": {},
   "source": [
    "## 도구 다형성"
   ]
  },
  {
   "cell_type": "markdown",
   "metadata": {},
   "source": [
    "다형성과 관련해서 하스켈이 제공하는 또다른 기능이 하나의 함수를 여러 유형에 동일한 이름으로 \n",
    "작동하도록 해주는 것이다."
   ]
  },
  {
   "cell_type": "markdown",
   "metadata": {},
   "source": [
    "#### 예제: 덧셈"
   ]
  },
  {
   "cell_type": "markdown",
   "metadata": {},
   "source": [
    "예를 들어, 덧셈 연산자 `+`는 정수들의 덧셈뿐만 아니라 실수들의 덧셈도 계산한다. "
   ]
  },
  {
   "cell_type": "code",
   "execution_count": 4,
   "metadata": {},
   "outputs": [
    {
     "data": {
      "text/plain": [
       "5"
      ]
     },
     "metadata": {},
     "output_type": "display_data"
    }
   ],
   "source": [
    "2 + 3"
   ]
  },
  {
   "cell_type": "code",
   "execution_count": 5,
   "metadata": {},
   "outputs": [
    {
     "data": {
      "text/plain": [
       "5.0"
      ]
     },
     "metadata": {},
     "output_type": "display_data"
    }
   ],
   "source": [
    "2.0 + 3.0"
   ]
  },
  {
   "cell_type": "markdown",
   "metadata": {},
   "source": [
    "#### 예제: 동치비교"
   ]
  },
  {
   "cell_type": "markdown",
   "metadata": {},
   "source": [
    "이 기능이 가장 중요한 연산자 중에 하나가 동치비교 연산자 `==`이다.\n",
    "동치비교 연산자는 동일 유형의 값에 대해서만 작동하며, 서로 유형이 다른 값의 동치비교는 불가능하다.\n",
    "원칙적으로는 모든 유형 각각에 대해 동치비교 연산자가 필요하지만\n",
    "`==` 기호가 가능 모든 유형에 대해 동치비교 역할을 수행한다."
   ]
  },
  {
   "cell_type": "code",
   "execution_count": 6,
   "metadata": {},
   "outputs": [
    {
     "data": {
      "text/plain": [
       "True"
      ]
     },
     "metadata": {},
     "output_type": "display_data"
    }
   ],
   "source": [
    "2 == 2"
   ]
  },
  {
   "cell_type": "code",
   "execution_count": 7,
   "metadata": {},
   "outputs": [
    {
     "data": {
      "text/plain": [
       "True"
      ]
     },
     "metadata": {},
     "output_type": "display_data"
    }
   ],
   "source": [
    "1.2 == 1.2"
   ]
  },
  {
   "cell_type": "code",
   "execution_count": 8,
   "metadata": {},
   "outputs": [
    {
     "data": {
      "text/plain": [
       "True"
      ]
     },
     "metadata": {},
     "output_type": "display_data"
    }
   ],
   "source": [
    "(True, False) == (True, False)"
   ]
  },
  {
   "cell_type": "code",
   "execution_count": 9,
   "metadata": {},
   "outputs": [
    {
     "data": {
      "text/plain": [
       "False"
      ]
     },
     "metadata": {},
     "output_type": "display_data"
    }
   ],
   "source": [
    "\"Haskell\" == \"haskell\""
   ]
  },
  {
   "cell_type": "markdown",
   "metadata": {},
   "source": [
    "#### 예제: `elem` 함수"
   ]
  },
  {
   "cell_type": "markdown",
   "metadata": {},
   "source": [
    "`elem`은 리스트의 항목인지 여부를 판단해주는 함수이다. \n",
    "예를 들어, 정수들의 리스트에 특정 정수가 포함되어 있는지 여부를 아래와 같이 확인한다. \n",
    "\n",
    "**주의:** 두 개의 인자를 받는 함수를 중위표기법으로 사용하려면 역따옴표로 감싸면 된다."
   ]
  },
  {
   "cell_type": "code",
   "execution_count": 10,
   "metadata": {},
   "outputs": [
    {
     "data": {
      "text/plain": [
       "True"
      ]
     },
     "metadata": {},
     "output_type": "display_data"
    }
   ],
   "source": [
    "1 `elem` [1, 2, 3]"
   ]
  },
  {
   "cell_type": "markdown",
   "metadata": {},
   "source": [
    "또한 문자열에 특정 문자가 포함되어 있는지 여부도 확인이 가능하다.\n",
    "이렇듯 `elem` 함수는 항목여부를 판단하는 기능을 다양한 유형의 리스트에 대해 동일하게 작동한다."
   ]
  },
  {
   "cell_type": "code",
   "execution_count": 11,
   "metadata": {},
   "outputs": [
    {
     "data": {
      "text/plain": [
       "True"
      ]
     },
     "metadata": {},
     "output_type": "display_data"
    }
   ],
   "source": [
    "'a' `elem` \"abc\""
   ]
  },
  {
   "cell_type": "markdown",
   "metadata": {},
   "source": [
    "그런데 이렇게 동일한 이름의 함수나 기호를 임의의 유형에 대해서 사용할 수 있지는 않다.\n",
    "예를 들어, 덧셈 연산자는 정수, 부동소수점 등 특정 유형들에 대해서 작동하지만,\n",
    "`True + False`, `[1, 2] + [0, 3]`의 값은 아예 정의되어 있지 않다.\n",
    "또한 동치비교 연산의 경우, `Float -> Float` 유형의 함수,\n",
    "즉, 실수에서 실수로 가는 두 함수의 동치성 판단은 일반적으로 불가능하다."
   ]
  },
  {
   "cell_type": "markdown",
   "metadata": {},
   "source": [
    "이렇듯 몇몇 특정 유형들로 한정해서 동일한 이름(또는 기호)의 함수를 사용하는 것을 \n",
    "**중복정의** 또는 **오버로딩**overloading이라 부른다.\n",
    "중복정의는 하나의 함수가 여러 유형들과 함께 적용될 수 있다는 의미에서 다형성과 밀접하게 관련되어 있다.\n",
    "다만 허용되는 유형이 제한된다는 의미에서 매개변수 다형성과 다르며, 일명 **도구 다형성**이라고도 한다.\n",
    "\n",
    "도구 다형성의 영어 표현은 ad hoc polymorphism이며, 보통 애드혹 다형성으로 번역되지만,\n",
    "여기서는 **함수가 갖는 기능의 다형성**이라는 측면을 강조하하기 위해 도구 다형성이란 표현을 사용한다."
   ]
  },
  {
   "cell_type": "markdown",
   "metadata": {},
   "source": [
    "## 유형클래스"
   ]
  },
  {
   "cell_type": "markdown",
   "metadata": {},
   "source": [
    "앞서 언급한 단어 'ad hoc'의 사전적 의미는 '특별히', '당면 문제에 한해서', '임시 변통의' 등이지만 \n",
    "여기서는 **함수의 기능이 특정 유형들에 제한된다**의 의미로 이해해야 한다.\n",
    "따라서 특정 함수가 주어졌을 때 해당 함수의 기능이 발휘될 수 있는 유형들의 모음을 살펴보는 일이 중요하며,\n",
    "그런 유형들의 모음을 **유형클래스typeclass**라고 부른다.\n",
    "\n",
    "유형클래스는 몇몇 **함수들의 명세**specification와 그 **함수들이 가져야 하는 속성**들에 의해 정의된다.\n",
    "그리고 특정 유형클래스에 속한 모든 함수들의 기능을 지원하는 유형을 해당 유형클래스의 \n",
    "**인스턴스**instance라고 부른다.\n",
    "즉, 유형클래스는 자신의 인스턴스가 되는 유형들의 집합에 대응한다.\n",
    "\n",
    "정리하면 다음과 같다.\n",
    "\n",
    "* 유형클래스: 유한 개의 함수와 함수들의 속성들로 구성된 하나의 집합으로 정의됨.\n",
    "* 인스턴스: 유형클래스 정의에 사용된 모든 함수들의 기능을 지원하는 유형\n",
    "\n",
    "특정 유형클래스 정의에 포함된 함수는 그 유형클래스의 인스턴스 유형에 대해 동일한 이름으로 사용될 수 있다.\n",
    "이런 의미에서 유형클래스를 중복정의 또는 오버로딩 기능과 동일시하여 설명하기도 한다.\n",
    "\n",
    "유형클래스의 엄밀한 정의는 유형이론을 다루어야 하기에 좀 어렵다.\n",
    "여기서는 하스켈에서 기본으로 제공하는 유형클래스 몇 개를 살펴보면서 유형클래스의 의미와 활용을 살펴볼 것이며,\n",
    "사용자가 직접 유형클래스를 정의하는 방법은 추후에 다룰 예정이다. "
   ]
  },
  {
   "cell_type": "markdown",
   "metadata": {},
   "source": [
    "### 클래스와 객체 지향 프로그래밍"
   ]
  },
  {
   "cell_type": "markdown",
   "metadata": {},
   "source": [
    "**주의: 객체지향 프로그래밍과 친숙한 경우만 읽으세요. 친숙하지 않다면 가급적 읽지 말고 다음으로 넘어갈 것. \n",
    "괜히 혼라스러워질 수 있기 때문임.**"
   ]
  },
  {
   "cell_type": "markdown",
   "metadata": {},
   "source": [
    "C++, C#, 자바, 파이썬, 스칼라 등 명령형 객체지향프로그래밍 언어를 사용해보았다면\n",
    "클래스와 인스턴스(객체) 개념이 친숙하게 다가올 것이다. \n",
    "실제로 하스켈 언어와 기타 객체지향 언어에서 지원하는 클래스와 인스턴스 개념이 \n",
    "근본적으로 다르지 않다. \n",
    "다만 사용법에 있어서 차이가 좀 있을 뿐이다.\n",
    "물론 언급된 언어들도 클래스와 인스턴스의 사용법이 모두 제각각 다른 특성을 갖는다.\n",
    "\n",
    "하지만 하스켈에서 제공하는 클래스와 인스턴스 개념과 사용법이 가장 기본적이다. \n",
    "하스켈의 클래스와 인스턴스 개념을 이해한다면 기타 언어의 클래스와 인스턴스 개념을,\n",
    "더 나아가 객체지향 프로그래밍의 개념을 보다 잘 이해할 수 있을 것이다.\n",
    "물론 역으로도 가능하다. 다만, 앞서 언급한대로 차이점에 주의하면서 살펴보아야 한다.\n",
    "\n",
    "하스켈의 클래스와 인스턴스의 개념과 가장 비슷한 것은 \n",
    "자바 언어에서 제공되는 인터페이스interface와 implement 개념이다.\n",
    "\n",
    "자바의 인터페이스 특징은 다음과 같다.\n",
    "\n",
    "* 인터페이스: 추상 메소드만abstract methods으로 구성됨\n",
    "* 인터페이스 구현implementation: 인터 페이스에 포함된 메소드(함수) 전부를 구체적인 함수들로 구현한 클래스\n",
    "\n",
    "따라서 자바의 인터페이스는 하스켈의 유형클래스에,\n",
    "자바의 인터페이스 구현은 하스켈의 인스턴스 정의에 대응된다.\n",
    "하지만 앞서 설명한 대응이 절대적이지는 않다.\n",
    "가장 큰 차이점은 다음과 같다.\n",
    "\n",
    "* 하스켈의 유형은 특정 함수의 기능과 기본적으로 상관 없다. \n",
    "    즉, 유형이 일종의 집합으로 먼저 선언되고 이후에 특정 유형클래스의 함수들, 즉 메소드들을 구현하면서\n",
    "    해당 유형클래스의 인스턴스로 선언된다.\n",
    "* 자바의 인터페이스 구현은 집합과 메소드들의 구현을 동시에 해야 하며, 메소드가\n",
    "    구현된 클래스의 주요 구성요소가 된다.\n",
    "    \n",
    "반면에 주요 공통점은 다음과 같다.\n",
    "\n",
    "* 하스켈에서 하나의 유형이 동시에 여러 유형클래스의 인스턴스가 될 수 있다.\n",
    "    이는 자바에서 여러 개의 인터페이스를 동시에 구현하는 클래스를 정의할 수 있는 것에 해당한다.\n",
    "* 하스켈에서 유형클래스들 간의 다중상속이 가능하며,\n",
    "    이는 자바에서 인터페이스들 간의 다중상속이 가능한 것에 해당한다."
   ]
  },
  {
   "cell_type": "markdown",
   "metadata": {},
   "source": [
    "## 하스켈 주요 유형클래스"
   ]
  },
  {
   "cell_type": "markdown",
   "metadata": {},
   "source": [
    "하스켈의 기본 모듈인 `Prelude`에 포함된 많은 유형들 중에서 가장 많이 사용되는 유형클래스들을 살펴본다. "
   ]
  },
  {
   "cell_type": "markdown",
   "metadata": {},
   "source": [
    "### `Eq` 유형클래스"
   ]
  },
  {
   "cell_type": "markdown",
   "metadata": {},
   "source": [
    "동치비교가 가능한 인자들만을 갖는 유형들을 인스턴스로 갖는 유형클래스를 `Eq` 라고 부른다.\n",
    "먼저 `Eq`에 포함된 함수들의 명세는 다음과 같다.\n",
    "\n",
    "* `(==) :: a -> a -> Bool`\n",
    "* `(/=) :: a -> a -> Bool`\n",
    "\n",
    "여기서 `a`는 유형 변수이며, 특정 유형 `A`가 `Eq` 클래스의 인스턴스가 되려면 \n",
    "`(==) :: A -> A -> Bool`와 `(/=) :: A -> A -> Bool` 두 함수를 구체적으로 구현해야 한다.\n",
    "또한 구현된 두 함수가 아래 성질을 가져야 한다.\n",
    "\n",
    "* `x == y = not (x /= y)`\n",
    "* `x /= y = not (x == y)`\n",
    "\n",
    "즉, `x == y`와 `x /= y`는 서로 반대의 값을 가져야 한다. "
   ]
  },
  {
   "cell_type": "markdown",
   "metadata": {},
   "source": [
    "실제로 `Eq` 클래스의 정의는 다음과 같다.\n",
    "\n",
    "```haskell\n",
    "class Eq a where  \n",
    "    (==) :: a -> a -> Bool  \n",
    "    (/=) :: a -> a -> Bool  \n",
    "    x == y = not (x /= y)  \n",
    "    x /= y = not (x == y) \n",
    "```\n",
    "\n",
    "하스켈 문서에서 `Eq` 유형클래스에 대한 정보는 \n",
    "[Prelude:Eq](https://hackage.haskell.org/package/base-4.12.0.0/docs/Prelude.html#t:Eq)에서\n",
    "확인할 수 있다.\n",
    "\n",
    "`GHCi`에서는 `:info` 명령을 통해 유형클래스의 정보를 확인할 수 있다."
   ]
  },
  {
   "cell_type": "code",
   "execution_count": 45,
   "metadata": {},
   "outputs": [
    {
     "data": {},
     "metadata": {},
     "output_type": "display_data"
    }
   ],
   "source": [
    ":info Eq"
   ]
  },
  {
   "cell_type": "markdown",
   "metadata": {},
   "source": [
    "위 명령을 실행하면 다음과 같이 보여준다.\n",
    "\n",
    "```haskell\n",
    "class Eq a where  \n",
    "    (==) :: a -> a -> Bool  \n",
    "    (/=) :: a -> a -> Bool  \n",
    "    {-# MINIMAL (==) | (/=) #-}\n",
    "...\n",
    "```\n",
    "\n",
    "여기서 `{-# MINIMAL (==) | (/=) #-}`의 의미는 `(==)` 또는 `(/-)` 둘 중의 하나만 구현하면 된다는 뜻이다.\n",
    "두 연산자 중의 하나를 구현하면 `==` 와 `/=`의 성질에 의해 다른 연산자는 자연스럽게 정의되기 때문이다. \n",
    "실제로 두 연산자를 함께 정의하면서 서로 반대의 값을 갖도록 하지 않으면 오류가 발생한다. "
   ]
  },
  {
   "cell_type": "markdown",
   "metadata": {},
   "source": [
    "#### `(==)`와 `(/=)` 연산자의 유형"
   ]
  },
  {
   "cell_type": "markdown",
   "metadata": {},
   "source": [
    "앞서 설명하였듯이, `(==)`와 `(/=)`는 `Eq` 유형클래스의 인스턴스에 대해서만 작동한다.\n",
    "그리고 이 사실이 `(==)`와 `(/=)`의 유형에 포함되어 있다."
   ]
  },
  {
   "cell_type": "code",
   "execution_count": 58,
   "metadata": {},
   "outputs": [
    {
     "data": {
      "text/html": [
       "<style>/* Styles used for the Hoogle display in the pager */\n",
       ".hoogle-doc {\n",
       "display: block;\n",
       "padding-bottom: 1.3em;\n",
       "padding-left: 0.4em;\n",
       "}\n",
       ".hoogle-code {\n",
       "display: block;\n",
       "font-family: monospace;\n",
       "white-space: pre;\n",
       "}\n",
       ".hoogle-text {\n",
       "display: block;\n",
       "}\n",
       ".hoogle-name {\n",
       "color: green;\n",
       "font-weight: bold;\n",
       "}\n",
       ".hoogle-head {\n",
       "font-weight: bold;\n",
       "}\n",
       ".hoogle-sub {\n",
       "display: block;\n",
       "margin-left: 0.4em;\n",
       "}\n",
       ".hoogle-package {\n",
       "font-weight: bold;\n",
       "font-style: italic;\n",
       "}\n",
       ".hoogle-module {\n",
       "font-weight: bold;\n",
       "}\n",
       ".hoogle-class {\n",
       "font-weight: bold;\n",
       "}\n",
       ".get-type {\n",
       "color: green;\n",
       "font-weight: bold;\n",
       "font-family: monospace;\n",
       "display: block;\n",
       "white-space: pre-wrap;\n",
       "}\n",
       ".show-type {\n",
       "color: green;\n",
       "font-weight: bold;\n",
       "font-family: monospace;\n",
       "margin-left: 1em;\n",
       "}\n",
       ".mono {\n",
       "font-family: monospace;\n",
       "display: block;\n",
       "}\n",
       ".err-msg {\n",
       "color: red;\n",
       "font-style: italic;\n",
       "font-family: monospace;\n",
       "white-space: pre;\n",
       "display: block;\n",
       "}\n",
       "#unshowable {\n",
       "color: red;\n",
       "font-weight: bold;\n",
       "}\n",
       ".err-msg.in.collapse {\n",
       "padding-top: 0.7em;\n",
       "}\n",
       ".highlight-code {\n",
       "white-space: pre;\n",
       "font-family: monospace;\n",
       "}\n",
       ".suggestion-warning { \n",
       "font-weight: bold;\n",
       "color: rgb(200, 130, 0);\n",
       "}\n",
       ".suggestion-error { \n",
       "font-weight: bold;\n",
       "color: red;\n",
       "}\n",
       ".suggestion-name {\n",
       "font-weight: bold;\n",
       "}\n",
       "</style><span class='get-type'>(==) :: forall a. Eq a => a -> a -> Bool</span>"
      ],
      "text/plain": [
       "(==) :: forall a. Eq a => a -> a -> Bool"
      ]
     },
     "metadata": {},
     "output_type": "display_data"
    }
   ],
   "source": [
    ":t (==)"
   ]
  },
  {
   "cell_type": "code",
   "execution_count": 59,
   "metadata": {},
   "outputs": [
    {
     "data": {
      "text/html": [
       "<style>/* Styles used for the Hoogle display in the pager */\n",
       ".hoogle-doc {\n",
       "display: block;\n",
       "padding-bottom: 1.3em;\n",
       "padding-left: 0.4em;\n",
       "}\n",
       ".hoogle-code {\n",
       "display: block;\n",
       "font-family: monospace;\n",
       "white-space: pre;\n",
       "}\n",
       ".hoogle-text {\n",
       "display: block;\n",
       "}\n",
       ".hoogle-name {\n",
       "color: green;\n",
       "font-weight: bold;\n",
       "}\n",
       ".hoogle-head {\n",
       "font-weight: bold;\n",
       "}\n",
       ".hoogle-sub {\n",
       "display: block;\n",
       "margin-left: 0.4em;\n",
       "}\n",
       ".hoogle-package {\n",
       "font-weight: bold;\n",
       "font-style: italic;\n",
       "}\n",
       ".hoogle-module {\n",
       "font-weight: bold;\n",
       "}\n",
       ".hoogle-class {\n",
       "font-weight: bold;\n",
       "}\n",
       ".get-type {\n",
       "color: green;\n",
       "font-weight: bold;\n",
       "font-family: monospace;\n",
       "display: block;\n",
       "white-space: pre-wrap;\n",
       "}\n",
       ".show-type {\n",
       "color: green;\n",
       "font-weight: bold;\n",
       "font-family: monospace;\n",
       "margin-left: 1em;\n",
       "}\n",
       ".mono {\n",
       "font-family: monospace;\n",
       "display: block;\n",
       "}\n",
       ".err-msg {\n",
       "color: red;\n",
       "font-style: italic;\n",
       "font-family: monospace;\n",
       "white-space: pre;\n",
       "display: block;\n",
       "}\n",
       "#unshowable {\n",
       "color: red;\n",
       "font-weight: bold;\n",
       "}\n",
       ".err-msg.in.collapse {\n",
       "padding-top: 0.7em;\n",
       "}\n",
       ".highlight-code {\n",
       "white-space: pre;\n",
       "font-family: monospace;\n",
       "}\n",
       ".suggestion-warning { \n",
       "font-weight: bold;\n",
       "color: rgb(200, 130, 0);\n",
       "}\n",
       ".suggestion-error { \n",
       "font-weight: bold;\n",
       "color: red;\n",
       "}\n",
       ".suggestion-name {\n",
       "font-weight: bold;\n",
       "}\n",
       "</style><span class='get-type'>(/=) :: forall a. Eq a => a -> a -> Bool</span>"
      ],
      "text/plain": [
       "(/=) :: forall a. Eq a => a -> a -> Bool"
      ]
     },
     "metadata": {},
     "output_type": "display_data"
    }
   ],
   "source": [
    ":t (/=)"
   ]
  },
  {
   "cell_type": "markdown",
   "metadata": {},
   "source": [
    "위 유형의 의미는 다음과 같다.\n",
    "\n",
    "* `Eq A`를 만족시키는 유형 `A`, 즉 `Eq` 유형클래스의 인스턴스 `A`가 주어졌고,\n",
    "* `x`, `y`가 모두 `A` 유형의 값이면 \n",
    "* `x == y`와 `x /= y`는 `Bool` 유형의 값, 즉, `True` 이면 `False` 이다."
   ]
  },
  {
   "cell_type": "markdown",
   "metadata": {},
   "source": [
    "#### `Eq` 유형클래스의 인스턴스"
   ]
  },
  {
   "cell_type": "markdown",
   "metadata": {},
   "source": [
    "지금까지 살펴본 유형들 중에서 함수 유형을 제외한 다른 유형들 모두 `Eq` 유형클래스의 인스턴스이다. \n",
    "예를 들어, `Bool`, `Char`, `String`, `Int`, `Integer`, `Float`, `Double` 뿐만 아니라,\n",
    "리스트, 튜플 유형들 모두 `Eq` 유형클래스의 인스턴스이다. \n",
    "다만, 리스트와 튜플의 경우 항목들의 유형 모두 `Eq` 유형클래스의 인스턴스이어야 한다.\n",
    "\n",
    "**주의:** `A`와 `B` 모두 `Eq` 유형클래스의 인스턴스이더라도, \n",
    "함수 유형 `A -> B`는 일반적으로 `Eq` 유형클래스의 인스턴스가 아니다.  "
   ]
  },
  {
   "cell_type": "code",
   "execution_count": 53,
   "metadata": {},
   "outputs": [
    {
     "data": {
      "text/html": [
       "<style>/* Styles used for the Hoogle display in the pager */\n",
       ".hoogle-doc {\n",
       "display: block;\n",
       "padding-bottom: 1.3em;\n",
       "padding-left: 0.4em;\n",
       "}\n",
       ".hoogle-code {\n",
       "display: block;\n",
       "font-family: monospace;\n",
       "white-space: pre;\n",
       "}\n",
       ".hoogle-text {\n",
       "display: block;\n",
       "}\n",
       ".hoogle-name {\n",
       "color: green;\n",
       "font-weight: bold;\n",
       "}\n",
       ".hoogle-head {\n",
       "font-weight: bold;\n",
       "}\n",
       ".hoogle-sub {\n",
       "display: block;\n",
       "margin-left: 0.4em;\n",
       "}\n",
       ".hoogle-package {\n",
       "font-weight: bold;\n",
       "font-style: italic;\n",
       "}\n",
       ".hoogle-module {\n",
       "font-weight: bold;\n",
       "}\n",
       ".hoogle-class {\n",
       "font-weight: bold;\n",
       "}\n",
       ".get-type {\n",
       "color: green;\n",
       "font-weight: bold;\n",
       "font-family: monospace;\n",
       "display: block;\n",
       "white-space: pre-wrap;\n",
       "}\n",
       ".show-type {\n",
       "color: green;\n",
       "font-weight: bold;\n",
       "font-family: monospace;\n",
       "margin-left: 1em;\n",
       "}\n",
       ".mono {\n",
       "font-family: monospace;\n",
       "display: block;\n",
       "}\n",
       ".err-msg {\n",
       "color: red;\n",
       "font-style: italic;\n",
       "font-family: monospace;\n",
       "white-space: pre;\n",
       "display: block;\n",
       "}\n",
       "#unshowable {\n",
       "color: red;\n",
       "font-weight: bold;\n",
       "}\n",
       ".err-msg.in.collapse {\n",
       "padding-top: 0.7em;\n",
       "}\n",
       ".highlight-code {\n",
       "white-space: pre;\n",
       "font-family: monospace;\n",
       "}\n",
       ".suggestion-warning { \n",
       "font-weight: bold;\n",
       "color: rgb(200, 130, 0);\n",
       "}\n",
       ".suggestion-error { \n",
       "font-weight: bold;\n",
       "color: red;\n",
       "}\n",
       ".suggestion-name {\n",
       "font-weight: bold;\n",
       "}\n",
       "</style><div class=\"suggestion-name\" style=\"clear:both;\">Redundant ==</div><div class=\"suggestion-row\" style=\"float: left;\"><div class=\"suggestion-warning\">Found:</div><div class=\"highlight-code\" id=\"haskell\">True == not True</div></div><div class=\"suggestion-row\" style=\"float: left;\"><div class=\"suggestion-warning\">Why Not:</div><div class=\"highlight-code\" id=\"haskell\">not True</div></div><div class=\"suggestion-name\" style=\"clear:both;\">Evaluate</div><div class=\"suggestion-row\" style=\"float: left;\"><div class=\"suggestion-warning\">Found:</div><div class=\"highlight-code\" id=\"haskell\">not True</div></div><div class=\"suggestion-row\" style=\"float: left;\"><div class=\"suggestion-warning\">Why Not:</div><div class=\"highlight-code\" id=\"haskell\">False</div></div>"
      ],
      "text/plain": [
       "Line 1: Redundant ==\n",
       "Found:\n",
       "True == not True\n",
       "Why not:\n",
       "not TrueLine 1: Evaluate\n",
       "Found:\n",
       "not True\n",
       "Why not:\n",
       "False"
      ]
     },
     "metadata": {},
     "output_type": "display_data"
    },
    {
     "data": {
      "text/plain": [
       "False"
      ]
     },
     "metadata": {},
     "output_type": "display_data"
    }
   ],
   "source": [
    "True == not True"
   ]
  },
  {
   "cell_type": "code",
   "execution_count": 47,
   "metadata": {},
   "outputs": [
    {
     "data": {
      "text/plain": [
       "False"
      ]
     },
     "metadata": {},
     "output_type": "display_data"
    }
   ],
   "source": [
    "1 == 2"
   ]
  },
  {
   "cell_type": "code",
   "execution_count": 48,
   "metadata": {},
   "outputs": [
    {
     "data": {
      "text/plain": [
       "False"
      ]
     },
     "metadata": {},
     "output_type": "display_data"
    }
   ],
   "source": [
    "'a' == 'c'"
   ]
  },
  {
   "cell_type": "code",
   "execution_count": 50,
   "metadata": {},
   "outputs": [
    {
     "data": {
      "text/plain": [
       "True"
      ]
     },
     "metadata": {},
     "output_type": "display_data"
    }
   ],
   "source": [
    "\"abc\" == \"abc\""
   ]
  },
  {
   "cell_type": "code",
   "execution_count": 51,
   "metadata": {},
   "outputs": [
    {
     "data": {
      "text/plain": [
       "True"
      ]
     },
     "metadata": {},
     "output_type": "display_data"
    }
   ],
   "source": [
    "[1, 2, 3] == [1, 2, 3]"
   ]
  },
  {
   "cell_type": "code",
   "execution_count": 52,
   "metadata": {},
   "outputs": [
    {
     "data": {
      "text/plain": [
       "False"
      ]
     },
     "metadata": {},
     "output_type": "display_data"
    }
   ],
   "source": [
    "(1, 'a') == (2, 'a')"
   ]
  },
  {
   "cell_type": "code",
   "execution_count": 55,
   "metadata": {},
   "outputs": [
    {
     "data": {
      "text/plain": [
       "True"
      ]
     },
     "metadata": {},
     "output_type": "display_data"
    }
   ],
   "source": [
    "1.1 == 1.10"
   ]
  },
  {
   "cell_type": "code",
   "execution_count": 56,
   "metadata": {},
   "outputs": [
    {
     "data": {
      "text/plain": [
       "False"
      ]
     },
     "metadata": {},
     "output_type": "display_data"
    }
   ],
   "source": [
    "1.1 == 1.101"
   ]
  },
  {
   "cell_type": "markdown",
   "metadata": {},
   "source": [
    "하지만 이전에 언급한대로 부동소수점은 매우 조심스럽게 다뤄야 한다.\n",
    "실제로 아래와 같은 일이 발생한다. \n",
    "끝자리에 있는 1에 주의하라."
   ]
  },
  {
   "cell_type": "code",
   "execution_count": 57,
   "metadata": {},
   "outputs": [
    {
     "data": {
      "text/plain": [
       "True"
      ]
     },
     "metadata": {},
     "output_type": "display_data"
    }
   ],
   "source": [
    "1.1 == 1.1000000000000001"
   ]
  },
  {
   "cell_type": "markdown",
   "metadata": {},
   "source": [
    "이런 현상은 하스켈의 문제가 아니라 부동소수점을 사용하는 모든 컴퓨터의 문제이다."
   ]
  },
  {
   "cell_type": "markdown",
   "metadata": {},
   "source": [
    "### `Ord` 유형 클래스"
   ]
  },
  {
   "cell_type": "markdown",
   "metadata": {},
   "source": [
    "`Ord` 유형클래스는 `Eq`를 확장하며, \n",
    "`(==)`와 `(/=)` 이외에 크기비교와 관련된 7개의 연산자에 대한 명세가 추가된다. \n",
    "\n",
    "```haskell\n",
    "class Eq a => Ord a where\n",
    "    compare :: a -> a -> Ordering\n",
    "    (<) :: a -> a -> Bool\n",
    "    (<=) :: a -> a -> Bool\n",
    "    (>) :: a -> a -> Bool\n",
    "    (>=) :: a -> a -> Bool\n",
    "    max :: a -> a -> a\n",
    "    min :: a -> a -> a\n",
    "    {-# MINIMAL compare | (<=) #-}\n",
    "...\n",
    "```\n",
    "\n",
    "`class Eq a => Ord a where`의 의미는 다음과 같다.\n",
    "\n",
    "* 유형 `A`가 `Ord` 유형클래스의 인스턴스가 되려면 먼저 `Eq` 유형클래스의 인스턴스이어야 하며,\n",
    "* `Eq` 유형클래스의 명세에 포함되어 있는 `(==)`와 `(/=)` 함수 이외에 7개의 함수에 대한 명세와 성질을\n",
    "    만족시켜야 한다. \n",
    "\n",
    "하지만 `{-# MINIMAL compare | (<=) #-}`가 의미하는 대로  `compare`와 `(<=)` 두 함수만\n",
    "정의하면 된다. 이유는 `(==)`와 `(/=)`의 관계처럼 다른 함수들은 \n",
    "아래 성질들이 만족되도록 `compare`와 `(<=)`에 의해 정의될 수 있기 때문이다.\n",
    "\n",
    "```\n",
    "x >= y = y <= x\n",
    "x < y = x <= y && x /= y\n",
    "x > y = y < x\n",
    "x < y = compare x y == LT\n",
    "x > y = compare x y == GT\n",
    "x == y = compare x y == EQ\n",
    "min x y == if x <= y then x else y = True\n",
    "max x y == if x >= y then x else y = True\n",
    "```\n",
    "\n",
    "하스켈 문서에서 `Ord` 유형클래스에 대한 정보는\n",
    "[Prelude:Ord](https://hackage.haskell.org/package/base-4.12.0.0/docs/Prelude.html#t:Ord)\n",
    "에서 확인할 수 있다. \n",
    "GHCi에서 `:info` 명령을 통해 확인하면 다음과 같다. "
   ]
  },
  {
   "cell_type": "markdown",
   "metadata": {},
   "source": [
    "**주의:** `Ordering`은 `LT`, `EQ`, `GT` 세 개의 값으로 이루어진 유형이다. \n",
    "세 값의 의미는 다음과 같다.\n",
    "\n",
    "* `LT`: 작다(less than)\n",
    "* `EQ`: 같다(equal)\n",
    "* `GT`: 크다(greater than)\n",
    "\n",
    "즉, 특정 유형을 아용하여 `compare` 함수를 구현하려면 해당 유형의 임의의 두 값을 비교한 후\n",
    "두 값 사이의 순서ordering를 지정해야 한다. \n",
    "\n",
    "예를 들어, 정수들 사이의 순서는 우리가 아는 것과 동일하다. "
   ]
  },
  {
   "cell_type": "code",
   "execution_count": 87,
   "metadata": {},
   "outputs": [
    {
     "data": {
      "text/plain": [
       "GT"
      ]
     },
     "metadata": {},
     "output_type": "display_data"
    }
   ],
   "source": [
    "compare 2 1"
   ]
  },
  {
   "cell_type": "code",
   "execution_count": 99,
   "metadata": {},
   "outputs": [
    {
     "data": {
      "text/plain": [
       "True"
      ]
     },
     "metadata": {},
     "output_type": "display_data"
    }
   ],
   "source": [
    "2 <= 2"
   ]
  },
  {
   "cell_type": "markdown",
   "metadata": {},
   "source": [
    "부울값들도 알려진 바와 동일하다."
   ]
  },
  {
   "cell_type": "code",
   "execution_count": 100,
   "metadata": {},
   "outputs": [
    {
     "data": {
      "text/plain": [
       "True"
      ]
     },
     "metadata": {},
     "output_type": "display_data"
    }
   ],
   "source": [
    "False < True"
   ]
  },
  {
   "cell_type": "markdown",
   "metadata": {},
   "source": [
    "문자 순서는 알파벳 순서를 따른다."
   ]
  },
  {
   "cell_type": "code",
   "execution_count": 91,
   "metadata": {},
   "outputs": [
    {
     "data": {
      "text/plain": [
       "LT"
      ]
     },
     "metadata": {},
     "output_type": "display_data"
    }
   ],
   "source": [
    "compare 'a' 'b'"
   ]
  },
  {
   "cell_type": "markdown",
   "metadata": {},
   "source": [
    "리스트와 튜플의 비교도 사전식으로 작동한다."
   ]
  },
  {
   "cell_type": "code",
   "execution_count": 94,
   "metadata": {},
   "outputs": [
    {
     "data": {
      "text/plain": [
       "LT"
      ]
     },
     "metadata": {},
     "output_type": "display_data"
    }
   ],
   "source": [
    "compare [1, 5] [2, 3, 4]"
   ]
  },
  {
   "cell_type": "code",
   "execution_count": 95,
   "metadata": {},
   "outputs": [
    {
     "data": {
      "text/plain": [
       "True"
      ]
     },
     "metadata": {},
     "output_type": "display_data"
    }
   ],
   "source": [
    "[1, 5] <= [2, 3, 4]"
   ]
  },
  {
   "cell_type": "code",
   "execution_count": 107,
   "metadata": {},
   "outputs": [
    {
     "data": {
      "text/plain": [
       "('b',3)"
      ]
     },
     "metadata": {},
     "output_type": "display_data"
    }
   ],
   "source": [
    "max ('b', 3) ('b', 0)"
   ]
  },
  {
   "cell_type": "markdown",
   "metadata": {},
   "source": [
    "문자열은 문자들의 리스트임에 주의하라."
   ]
  },
  {
   "cell_type": "code",
   "execution_count": 97,
   "metadata": {},
   "outputs": [
    {
     "data": {
      "text/plain": [
       "True"
      ]
     },
     "metadata": {},
     "output_type": "display_data"
    }
   ],
   "source": [
    "\"cd\" > \"aef\""
   ]
  },
  {
   "cell_type": "code",
   "execution_count": 98,
   "metadata": {},
   "outputs": [
    {
     "data": {
      "text/plain": [
       "\"aef\""
      ]
     },
     "metadata": {},
     "output_type": "display_data"
    }
   ],
   "source": [
    "min \"cd\" \"aef\""
   ]
  },
  {
   "cell_type": "code",
   "execution_count": null,
   "metadata": {},
   "outputs": [],
   "source": []
  },
  {
   "cell_type": "code",
   "execution_count": null,
   "metadata": {},
   "outputs": [],
   "source": []
  },
  {
   "cell_type": "markdown",
   "metadata": {},
   "source": [
    "### `Num` 유형 클래스"
   ]
  },
  {
   "cell_type": "markdown",
   "metadata": {},
   "source": [
    "예를 들어, 두 값의 합은 두 개의 값에 적용하면 두 값의 합을 계산하는 도구를 요구하며, \n",
    "그 도구는 덧셈과 관련된 여러 성질, 예를 들어 교환성commutativity, 결합성associativity 등을 \n",
    "만족시켜야 한다. \n",
    "또한 동치비교는 두 개의 값에 적용하면 두 값의 동치성을 참/거짓으로 판단해주는 도구를 요구하며,\n",
    "그 도구는, 예를 들어, 반사성reflexivity, 대칭성symmetry, 전이성transitivity 등 동치성과\n",
    "관련된 성질을 만족시켜야 한다. \n",
    "\n",
    "실제로 두 값의 합을 계산하는 도구를 `+`로, \n",
    "두 값의 동치성을 판단하는 도구를 `==`로 명명하였으며, \n",
    "`+`를 포함하여 `-`, `*` 등의 연산에 대응하는 도구 및 그 도구들이 만족시켜야 하는 성질에\n",
    "의해 정의되는 유형클래스를 `Num`이라 부른다."
   ]
  },
  {
   "cell_type": "markdown",
   "metadata": {},
   "source": [
    "#### 예제: 덧셈 연산자 `+`"
   ]
  },
  {
   "cell_type": "markdown",
   "metadata": {},
   "source": [
    "앞서 설명한 대로 덧셈 연산자 `+`는 `Num` 클래스를 특징짓는 도구중 하나이다.\n",
    "즉, `+`는 `Num` 클래스에 속한 유형에서만 작동한다.\n",
    "실제로 `+`의 유형을 확인하면 다음과 같다. \n",
    "\n",
    "**주의:** 덧셈 `+`, 뺄셈 `-`, 곱셈 `*`, 나눗셈 `/` 등의 중위infix 연산자들의 유형을 확인할 때는 \n",
    "괄호로 감싸서 전위prefix 연산자로 만들어야 한다. "
   ]
  },
  {
   "cell_type": "code",
   "execution_count": null,
   "metadata": {},
   "outputs": [],
   "source": [
    ":t (+)"
   ]
  },
  {
   "cell_type": "markdown",
   "metadata": {},
   "source": [
    "위 유형을 설명하면 다음과 같다.\n",
    "\n",
    "* `a -> a -> a`: \n",
    "    * 덧셈 연산자는 임의의 유형 `a`에 대해,\n",
    "    * `a` 유형의 값 두 개에 적용하면 `a` 유형의 값을 계산한다.\n",
    "* `Num a => a -> a -> a`\n",
    "    * 허용되는 유형들의 클래스를 기호 `=>` 왼편에 위치시킴.\n",
    "    * 즉, `Num` 클래스의 인스턴스에 대해서만 덧셈이 작동함을 의미함."
   ]
  },
  {
   "cell_type": "markdown",
   "metadata": {},
   "source": [
    "#### 예제: 사칙연산"
   ]
  },
  {
   "cell_type": "code",
   "execution_count": null,
   "metadata": {},
   "outputs": [],
   "source": [
    "[3.11..6]"
   ]
  },
  {
   "cell_type": "markdown",
   "metadata": {},
   "source": [
    "뺄셈과 나눗셈도 `Num` 클래스의 도구들이다."
   ]
  },
  {
   "cell_type": "code",
   "execution_count": null,
   "metadata": {},
   "outputs": [],
   "source": [
    ":t (-)"
   ]
  },
  {
   "cell_type": "code",
   "execution_count": null,
   "metadata": {},
   "outputs": [],
   "source": [
    ":t Num"
   ]
  },
  {
   "cell_type": "code",
   "execution_count": null,
   "metadata": {},
   "outputs": [],
   "source": [
    ":t (*)"
   ]
  },
  {
   "cell_type": "markdown",
   "metadata": {},
   "source": [
    "### `Fractional` 유형 클래스"
   ]
  },
  {
   "cell_type": "markdown",
   "metadata": {},
   "source": [
    "반면에 나눗셈의 유형은 조금 다르다."
   ]
  },
  {
   "cell_type": "code",
   "execution_count": null,
   "metadata": {},
   "outputs": [],
   "source": [
    ":t (/)"
   ]
  },
  {
   "cell_type": "markdown",
   "metadata": {},
   "source": [
    "즉, 나눗셈은 `Fractional`이라는 유형클래스의 도구이다. \n",
    "`Fractional` 클래스는 `Num` 클래스를 확장한다. \n",
    "즉, `Num` 클래스의 도구들과 관련 성질들이 모두 `Fractional` 클래스에 포함된다. "
   ]
  },
  {
   "cell_type": "markdown",
   "metadata": {},
   "source": [
    "#### 예제: `elem` 함수"
   ]
  },
  {
   "cell_type": "markdown",
   "metadata": {},
   "source": [
    "`elem`은 리스트의 항목인지 여부를 판단해주는 함수이다. \n",
    "그런데 리스트의 항목인지 여부를 판단하려면 항목에 포함된 인자들과의 동치성 여부를 판단할 수 있어야 한다.\n",
    "따라서 `elem`은 `Eq` 클래스에 속한 유형에 대해서만 작동할 수 있으며, 실제 유형은 다음과 같다."
   ]
  },
  {
   "cell_type": "code",
   "execution_count": null,
   "metadata": {},
   "outputs": [],
   "source": [
    ":t elem"
   ]
  },
  {
   "cell_type": "markdown",
   "metadata": {},
   "source": [
    "**주의:** `Foldable`은 일단 무시한다. 여기서는 `t a`를 `[a]`로 이해하는 정도로 하고 넘어간다."
   ]
  },
  {
   "cell_type": "markdown",
   "metadata": {},
   "source": [
    "#### 예제: 숫자"
   ]
  },
  {
   "cell_type": "markdown",
   "metadata": {},
   "source": [
    "1, 2, 3, ... 등의 정수, 1.0, 2.3, 3.8 등의 부동소수점도 여러 유형에 대해 중복 정의되어 있다. \n",
    "즉, 우리에게 보이는 숫자들이 특정 유형에서 공통으로 사용되는 **상수constant** 기호라는 의미이다."
   ]
  },
  {
   "cell_type": "markdown",
   "metadata": {},
   "source": [
    "정수는 `Num` 클래스에 속하는 유형에서 공통으로 사용되는 상수 기호이다. "
   ]
  },
  {
   "cell_type": "code",
   "execution_count": null,
   "metadata": {},
   "outputs": [],
   "source": [
    ":t 1"
   ]
  },
  {
   "cell_type": "markdown",
   "metadata": {},
   "source": [
    "부동소수점은 `Fractional` 클래스에 속하는 유형에서 공통으로 사용되는 상수 기호이다. "
   ]
  },
  {
   "cell_type": "code",
   "execution_count": null,
   "metadata": {},
   "outputs": [],
   "source": [
    ":t 3.1"
   ]
  },
  {
   "cell_type": "code",
   "execution_count": null,
   "metadata": {},
   "outputs": [],
   "source": []
  },
  {
   "cell_type": "code",
   "execution_count": null,
   "metadata": {},
   "outputs": [],
   "source": []
  },
  {
   "cell_type": "code",
   "execution_count": null,
   "metadata": {},
   "outputs": [],
   "source": []
  },
  {
   "cell_type": "code",
   "execution_count": null,
   "metadata": {},
   "outputs": [],
   "source": []
  },
  {
   "cell_type": "code",
   "execution_count": null,
   "metadata": {},
   "outputs": [],
   "source": []
  },
  {
   "cell_type": "code",
   "execution_count": null,
   "metadata": {},
   "outputs": [],
   "source": []
  },
  {
   "cell_type": "markdown",
   "metadata": {},
   "source": [
    "## 기본 클래스"
   ]
  },
  {
   "cell_type": "markdown",
   "metadata": {},
   "source": [
    "하스켈의 `prelude`에 포함된 클래스 소개"
   ]
  },
  {
   "cell_type": "markdown",
   "metadata": {},
   "source": [
    "### `Eq` 클래스"
   ]
  },
  {
   "cell_type": "code",
   "execution_count": null,
   "metadata": {},
   "outputs": [],
   "source": []
  },
  {
   "cell_type": "code",
   "execution_count": null,
   "metadata": {},
   "outputs": [],
   "source": []
  },
  {
   "cell_type": "code",
   "execution_count": null,
   "metadata": {},
   "outputs": [],
   "source": []
  },
  {
   "cell_type": "markdown",
   "metadata": {},
   "source": [
    "### `Num` 클래스"
   ]
  },
  {
   "cell_type": "markdown",
   "metadata": {},
   "source": [
    "#### 예제: `negate`\n",
    "\n",
    "양수를 음수로, 음수를 양수로 기호 반전시키는 반전함수 `negate`도 \n",
    "`Num` 클래스의 도구이다."
   ]
  },
  {
   "cell_type": "code",
   "execution_count": null,
   "metadata": {},
   "outputs": [],
   "source": [
    ":t negate"
   ]
  },
  {
   "cell_type": "markdown",
   "metadata": {},
   "source": [
    "`negate` 함수의 기호는 빼기 기호 `-`와 동일하다. "
   ]
  },
  {
   "cell_type": "code",
   "execution_count": null,
   "metadata": {},
   "outputs": [],
   "source": [
    "-3 + 3"
   ]
  },
  {
   "cell_type": "code",
   "execution_count": null,
   "metadata": {},
   "outputs": [],
   "source": [
    "3 + (-3)"
   ]
  },
  {
   "cell_type": "markdown",
   "metadata": {},
   "source": [
    "빼기와 `negate`의 기호는 동일하지만 사용되는 위치의 역할에 따라 구분된다.\n",
    "이 부분은 파싱parsing의 기능에 의존한다. \n",
    "파싱에 대한 논의는 여기서는 하지 않는다.\n",
    "다만 사용에 주의해야 한다는 점은 기억해야 한다.\n",
    "\n",
    "예를 들어 아래와 같이 사용하면 파싱 오류가 발생한다. \n",
    "이유는 뺄셈으로 파싱할지, 아니면 반전 함수로 파싱할지 명확하지 않기 때문이다. "
   ]
  },
  {
   "cell_type": "code",
   "execution_count": null,
   "metadata": {},
   "outputs": [],
   "source": [
    "3 + -3"
   ]
  },
  {
   "cell_type": "markdown",
   "metadata": {},
   "source": [
    "**참조:** 파싱은 작성된 소스코드가 컴퓨터가 이해할 수 있는 언어로 컴파일되는 과정에서 \n",
    "컴파일러가 작성된 코드의 구문을 분석하기 위해 사용하는 기법이다.\n",
    "컴파일러, 파싱, 파서 등에 대한 간략한 소개는 \n",
    "[컴파일러 만들기](https://crystalcube.co.kr/107?category=461606)를 참조할 수 있다."
   ]
  },
  {
   "cell_type": "markdown",
   "metadata": {},
   "source": [
    "#### 예제: `abs`\n",
    "\n",
    "절댓값을 계산하는 `abs`도 `Num` 클래스의 인스턴스에 대해서만 작동한다."
   ]
  },
  {
   "cell_type": "code",
   "execution_count": null,
   "metadata": {},
   "outputs": [],
   "source": [
    ":t abs"
   ]
  }
 ],
 "metadata": {
  "kernelspec": {
   "display_name": "Haskell",
   "language": "haskell",
   "name": "haskell"
  },
  "language_info": {
   "codemirror_mode": "ihaskell",
   "file_extension": ".hs",
   "name": "haskell",
   "pygments_lexer": "Haskell",
   "version": "8.6.5"
  }
 },
 "nbformat": 4,
 "nbformat_minor": 4
}
